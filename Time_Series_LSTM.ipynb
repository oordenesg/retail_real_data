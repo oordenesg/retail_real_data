{
  "nbformat": 4,
  "nbformat_minor": 0,
  "metadata": {
    "colab": {
      "name": "Time_Series_LSTM.ipynb",
      "provenance": [],
      "collapsed_sections": []
    },
    "kernelspec": {
      "name": "python3",
      "display_name": "Python 3"
    }
  },
  "cells": [
    {
      "cell_type": "markdown",
      "metadata": {
        "id": "LTTf01DmEqTV"
      },
      "source": [
        "## **Time Series: LSTM**"
      ]
    },
    {
      "cell_type": "code",
      "metadata": {
        "id": "Ai0azqNguyLt"
      },
      "source": [
        "import pandas as pd \r\n",
        "import numpy as np\r\n",
        "import matplotlib.pyplot as plt\r\n",
        "import datetime\r\n",
        "from google.colab import files\r\n",
        "import io\r\n",
        "\r\n",
        "from __future__ import print_function\r\n",
        "from math import sqrt\r\n",
        "from sklearn.preprocessing import MinMaxScaler\r\n",
        "from sklearn.preprocessing import LabelEncoder\r\n",
        "from sklearn.metrics import mean_squared_error\r\n",
        "from sklearn.model_selection import train_test_split\r\n",
        "from keras.models import Sequential\r\n",
        "from keras.layers import Dense, LSTM\r\n",
        "from keras import optimizers"
      ],
      "execution_count": 3,
      "outputs": []
    },
    {
      "cell_type": "code",
      "metadata": {
        "colab": {
          "resources": {
            "http://localhost:8080/nbextensions/google.colab/files.js": {
              "data": "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",
              "ok": true,
              "headers": [
                [
                  "content-type",
                  "application/javascript"
                ]
              ],
              "status": 200,
              "status_text": ""
            }
          },
          "base_uri": "https://localhost:8080/",
          "height": 72
        },
        "id": "EOs-Z3QwvbYA",
        "outputId": "e0c92efe-b930-4ccc-c94a-b540255d3681"
      },
      "source": [
        "uploaded = files.upload()"
      ],
      "execution_count": 4,
      "outputs": [
        {
          "output_type": "display_data",
          "data": {
            "text/html": [
              "\n",
              "     <input type=\"file\" id=\"files-8d3c545f-ade7-4523-a8a6-b2374f497c42\" name=\"files[]\" multiple disabled\n",
              "        style=\"border:none\" />\n",
              "     <output id=\"result-8d3c545f-ade7-4523-a8a6-b2374f497c42\">\n",
              "      Upload widget is only available when the cell has been executed in the\n",
              "      current browser session. Please rerun this cell to enable.\n",
              "      </output>\n",
              "      <script src=\"/nbextensions/google.colab/files.js\"></script> "
            ],
            "text/plain": [
              "<IPython.core.display.HTML object>"
            ]
          },
          "metadata": {
            "tags": []
          }
        },
        {
          "output_type": "stream",
          "text": [
            "Saving beacon_data.csv to beacon_data.csv\n"
          ],
          "name": "stdout"
        }
      ]
    },
    {
      "cell_type": "code",
      "metadata": {
        "id": "mTIruxWC3WSG"
      },
      "source": [
        "data = pd.read_csv(io.BytesIO(uploaded[\"beacon_data.csv\"]),sep = ';') #read the .csv file"
      ],
      "execution_count": 5,
      "outputs": []
    },
    {
      "cell_type": "code",
      "metadata": {
        "colab": {
          "base_uri": "https://localhost:8080/",
          "height": 281
        },
        "id": "yWQu_poc3mAO",
        "outputId": "b252069f-5284-4f95-b9e5-8724d4107314"
      },
      "source": [
        "data.head()"
      ],
      "execution_count": 6,
      "outputs": [
        {
          "output_type": "execute_result",
          "data": {
            "text/html": [
              "<div>\n",
              "<style scoped>\n",
              "    .dataframe tbody tr th:only-of-type {\n",
              "        vertical-align: middle;\n",
              "    }\n",
              "\n",
              "    .dataframe tbody tr th {\n",
              "        vertical-align: top;\n",
              "    }\n",
              "\n",
              "    .dataframe thead th {\n",
              "        text-align: right;\n",
              "    }\n",
              "</style>\n",
              "<table border=\"1\" class=\"dataframe\">\n",
              "  <thead>\n",
              "    <tr style=\"text-align: right;\">\n",
              "      <th></th>\n",
              "      <th>id</th>\n",
              "      <th>gtid</th>\n",
              "      <th>vendor_id</th>\n",
              "      <th>subscriber_id</th>\n",
              "      <th>merchant_id</th>\n",
              "      <th>signal_type</th>\n",
              "      <th>entry_date</th>\n",
              "      <th>exit_date</th>\n",
              "      <th>latitude</th>\n",
              "      <th>longitude</th>\n",
              "      <th>dongle_id</th>\n",
              "      <th>distance</th>\n",
              "      <th>proximity</th>\n",
              "      <th>rssi</th>\n",
              "    </tr>\n",
              "  </thead>\n",
              "  <tbody>\n",
              "    <tr>\n",
              "      <th>0</th>\n",
              "      <td>2339839562</td>\n",
              "      <td>F9341167-6D6C-4321-924F-2E6B9D9CEF7A</td>\n",
              "      <td>135</td>\n",
              "      <td>29253903</td>\n",
              "      <td>2133</td>\n",
              "      <td>2</td>\n",
              "      <td>2017-05-01 09:54:14.000000</td>\n",
              "      <td>NaN</td>\n",
              "      <td>40.992124</td>\n",
              "      <td>29.126770</td>\n",
              "      <td>5536</td>\n",
              "      <td>-100.000000</td>\n",
              "      <td>unknown</td>\n",
              "      <td>0.0</td>\n",
              "    </tr>\n",
              "    <tr>\n",
              "      <th>1</th>\n",
              "      <td>2340151194</td>\n",
              "      <td>EB93B8DF-1F8D-4BD6-A4E5-67B9BACBF6CF</td>\n",
              "      <td>135</td>\n",
              "      <td>17090954</td>\n",
              "      <td>2133</td>\n",
              "      <td>2</td>\n",
              "      <td>2017-05-01 10:28:45.000000</td>\n",
              "      <td>NaN</td>\n",
              "      <td>40.992183</td>\n",
              "      <td>29.126761</td>\n",
              "      <td>5536</td>\n",
              "      <td>1668.100537</td>\n",
              "      <td>far</td>\n",
              "      <td>-86.0</td>\n",
              "    </tr>\n",
              "    <tr>\n",
              "      <th>2</th>\n",
              "      <td>2340151210</td>\n",
              "      <td>5563AB7A-C5B0-492D-80E5-04E52A5C0C28</td>\n",
              "      <td>135</td>\n",
              "      <td>17090954</td>\n",
              "      <td>2133</td>\n",
              "      <td>2</td>\n",
              "      <td>2017-05-01 10:28:45.000000</td>\n",
              "      <td>NaN</td>\n",
              "      <td>40.992183</td>\n",
              "      <td>29.126761</td>\n",
              "      <td>5536</td>\n",
              "      <td>1668.100537</td>\n",
              "      <td>far</td>\n",
              "      <td>-86.0</td>\n",
              "    </tr>\n",
              "    <tr>\n",
              "      <th>3</th>\n",
              "      <td>2340151187</td>\n",
              "      <td>55AFD11A-06A3-4E9D-8735-445F3DE654D7</td>\n",
              "      <td>178</td>\n",
              "      <td>15630196</td>\n",
              "      <td>2133</td>\n",
              "      <td>2</td>\n",
              "      <td>2017-05-01 10:28:45.000000</td>\n",
              "      <td>NaN</td>\n",
              "      <td>40.992183</td>\n",
              "      <td>29.126761</td>\n",
              "      <td>5536</td>\n",
              "      <td>1668.100537</td>\n",
              "      <td>far</td>\n",
              "      <td>-86.0</td>\n",
              "    </tr>\n",
              "    <tr>\n",
              "      <th>4</th>\n",
              "      <td>2340185826</td>\n",
              "      <td>52DE3BD3-655B-40F2-AC37-1199E0CBD31B</td>\n",
              "      <td>178</td>\n",
              "      <td>15630196</td>\n",
              "      <td>2133</td>\n",
              "      <td>2</td>\n",
              "      <td>2017-05-01 10:32:19.000000</td>\n",
              "      <td>NaN</td>\n",
              "      <td>40.992110</td>\n",
              "      <td>29.126783</td>\n",
              "      <td>5536</td>\n",
              "      <td>1467.799268</td>\n",
              "      <td>far</td>\n",
              "      <td>-85.0</td>\n",
              "    </tr>\n",
              "  </tbody>\n",
              "</table>\n",
              "</div>"
            ],
            "text/plain": [
              "           id                                  gtid  ...  proximity  rssi\n",
              "0  2339839562  F9341167-6D6C-4321-924F-2E6B9D9CEF7A  ...    unknown   0.0\n",
              "1  2340151194  EB93B8DF-1F8D-4BD6-A4E5-67B9BACBF6CF  ...        far -86.0\n",
              "2  2340151210  5563AB7A-C5B0-492D-80E5-04E52A5C0C28  ...        far -86.0\n",
              "3  2340151187  55AFD11A-06A3-4E9D-8735-445F3DE654D7  ...        far -86.0\n",
              "4  2340185826  52DE3BD3-655B-40F2-AC37-1199E0CBD31B  ...        far -85.0\n",
              "\n",
              "[5 rows x 14 columns]"
            ]
          },
          "metadata": {
            "tags": []
          },
          "execution_count": 6
        }
      ]
    },
    {
      "cell_type": "markdown",
      "metadata": {
        "id": "JWGOLBMV3pYK"
      },
      "source": [
        "## **Step 1: Check if the columns have NA values**"
      ]
    },
    {
      "cell_type": "code",
      "metadata": {
        "colab": {
          "base_uri": "https://localhost:8080/"
        },
        "id": "lbjwMiql3rgu",
        "outputId": "3eb6784c-300f-45db-c93c-2bf17b759475"
      },
      "source": [
        "for column in data:\r\n",
        "    print(column +' '+ str(data[column].isnull().values.any()) +' '+str(sum(data[column].isnull())/len(data)))"
      ],
      "execution_count": 7,
      "outputs": [
        {
          "output_type": "stream",
          "text": [
            "id False 0.0\n",
            "gtid False 0.0\n",
            "vendor_id False 0.0\n",
            "subscriber_id False 0.0\n",
            "merchant_id False 0.0\n",
            "signal_type False 0.0\n",
            "entry_date False 0.0\n",
            "exit_date True 0.8725349301397206\n",
            "latitude True 0.00775249500998004\n",
            "longitude True 0.00775249500998004\n",
            "dongle_id False 0.0\n",
            "distance True 0.12746506986027945\n",
            "proximity True 0.12746506986027945\n",
            "rssi True 0.12746506986027945\n"
          ],
          "name": "stdout"
        }
      ]
    },
    {
      "cell_type": "markdown",
      "metadata": {
        "id": "PUyy-Ktu3yks"
      },
      "source": [
        "### ***Step 1.1: Then I removed some variables***"
      ]
    },
    {
      "cell_type": "code",
      "metadata": {
        "id": "g5zJSLoE35Bb"
      },
      "source": [
        "data = data.drop(\"id\",axis = 1) # choose variable id or gtid. Both are almost similar.\r\n",
        "data = data.drop(\"merchant_id\",axis = 1) # unique ID\r\n",
        "data = data.drop(\"dongle_id\",axis = 1) # unique ID\r\n",
        "data = data.drop(\"exit_date\",axis = 1) # entry_date = exit_date when signal = 4\r\n",
        "data = data.drop(\"rssi\",axis = 1)"
      ],
      "execution_count": 8,
      "outputs": []
    },
    {
      "cell_type": "markdown",
      "metadata": {
        "id": "RacKfO7s37jY"
      },
      "source": [
        "## **Step 2: Removed all the repeated values. Just 4.6% of rows are repeated**"
      ]
    },
    {
      "cell_type": "code",
      "metadata": {
        "id": "XhoF6-Zf4BVm"
      },
      "source": [
        "### 2. Find duplicated values using columns from vendor_id \r\n",
        "# I removed all the repeated values that I found\r\n",
        "\r\n",
        "duplicated_values = data.iloc[:,1:len(data.columns)].duplicated() #there are duplicated values\r\n",
        "sum(duplicated_values)/len(duplicated_values) # 4.6% of the rows are duplicated.\r\n",
        "data = data[duplicated_values == False] # removed the duplicated rows"
      ],
      "execution_count": 9,
      "outputs": []
    },
    {
      "cell_type": "code",
      "metadata": {
        "colab": {
          "base_uri": "https://localhost:8080/",
          "height": 197
        },
        "id": "ajNyAyH94F5J",
        "outputId": "954adb8d-be0d-4203-951e-3f5d4e2c6695"
      },
      "source": [
        "data.head()"
      ],
      "execution_count": 10,
      "outputs": [
        {
          "output_type": "execute_result",
          "data": {
            "text/html": [
              "<div>\n",
              "<style scoped>\n",
              "    .dataframe tbody tr th:only-of-type {\n",
              "        vertical-align: middle;\n",
              "    }\n",
              "\n",
              "    .dataframe tbody tr th {\n",
              "        vertical-align: top;\n",
              "    }\n",
              "\n",
              "    .dataframe thead th {\n",
              "        text-align: right;\n",
              "    }\n",
              "</style>\n",
              "<table border=\"1\" class=\"dataframe\">\n",
              "  <thead>\n",
              "    <tr style=\"text-align: right;\">\n",
              "      <th></th>\n",
              "      <th>gtid</th>\n",
              "      <th>vendor_id</th>\n",
              "      <th>subscriber_id</th>\n",
              "      <th>signal_type</th>\n",
              "      <th>entry_date</th>\n",
              "      <th>latitude</th>\n",
              "      <th>longitude</th>\n",
              "      <th>distance</th>\n",
              "      <th>proximity</th>\n",
              "    </tr>\n",
              "  </thead>\n",
              "  <tbody>\n",
              "    <tr>\n",
              "      <th>0</th>\n",
              "      <td>F9341167-6D6C-4321-924F-2E6B9D9CEF7A</td>\n",
              "      <td>135</td>\n",
              "      <td>29253903</td>\n",
              "      <td>2</td>\n",
              "      <td>2017-05-01 09:54:14.000000</td>\n",
              "      <td>40.992124</td>\n",
              "      <td>29.126770</td>\n",
              "      <td>-100.000000</td>\n",
              "      <td>unknown</td>\n",
              "    </tr>\n",
              "    <tr>\n",
              "      <th>1</th>\n",
              "      <td>EB93B8DF-1F8D-4BD6-A4E5-67B9BACBF6CF</td>\n",
              "      <td>135</td>\n",
              "      <td>17090954</td>\n",
              "      <td>2</td>\n",
              "      <td>2017-05-01 10:28:45.000000</td>\n",
              "      <td>40.992183</td>\n",
              "      <td>29.126761</td>\n",
              "      <td>1668.100537</td>\n",
              "      <td>far</td>\n",
              "    </tr>\n",
              "    <tr>\n",
              "      <th>3</th>\n",
              "      <td>55AFD11A-06A3-4E9D-8735-445F3DE654D7</td>\n",
              "      <td>178</td>\n",
              "      <td>15630196</td>\n",
              "      <td>2</td>\n",
              "      <td>2017-05-01 10:28:45.000000</td>\n",
              "      <td>40.992183</td>\n",
              "      <td>29.126761</td>\n",
              "      <td>1668.100537</td>\n",
              "      <td>far</td>\n",
              "    </tr>\n",
              "    <tr>\n",
              "      <th>4</th>\n",
              "      <td>52DE3BD3-655B-40F2-AC37-1199E0CBD31B</td>\n",
              "      <td>178</td>\n",
              "      <td>15630196</td>\n",
              "      <td>2</td>\n",
              "      <td>2017-05-01 10:32:19.000000</td>\n",
              "      <td>40.992110</td>\n",
              "      <td>29.126783</td>\n",
              "      <td>1467.799268</td>\n",
              "      <td>far</td>\n",
              "    </tr>\n",
              "    <tr>\n",
              "      <th>5</th>\n",
              "      <td>EDDB06CB-686C-4DE5-9662-7798E9FD389A</td>\n",
              "      <td>135</td>\n",
              "      <td>17090954</td>\n",
              "      <td>2</td>\n",
              "      <td>2017-05-01 10:33:24.000000</td>\n",
              "      <td>40.992189</td>\n",
              "      <td>29.126786</td>\n",
              "      <td>1042.299640</td>\n",
              "      <td>far</td>\n",
              "    </tr>\n",
              "  </tbody>\n",
              "</table>\n",
              "</div>"
            ],
            "text/plain": [
              "                                   gtid  vendor_id  ...     distance  proximity\n",
              "0  F9341167-6D6C-4321-924F-2E6B9D9CEF7A        135  ...  -100.000000    unknown\n",
              "1  EB93B8DF-1F8D-4BD6-A4E5-67B9BACBF6CF        135  ...  1668.100537        far\n",
              "3  55AFD11A-06A3-4E9D-8735-445F3DE654D7        178  ...  1668.100537        far\n",
              "4  52DE3BD3-655B-40F2-AC37-1199E0CBD31B        178  ...  1467.799268        far\n",
              "5  EDDB06CB-686C-4DE5-9662-7798E9FD389A        135  ...  1042.299640        far\n",
              "\n",
              "[5 rows x 9 columns]"
            ]
          },
          "metadata": {
            "tags": []
          },
          "execution_count": 10
        }
      ]
    },
    {
      "cell_type": "markdown",
      "metadata": {
        "id": "DFgcJgFe4Uz2"
      },
      "source": [
        "## **Step 3: Modify dates and removed latitude and longitude**"
      ]
    },
    {
      "cell_type": "code",
      "metadata": {
        "id": "NKiFJqGY4cAK"
      },
      "source": [
        "data_1 = data[data[\"proximity\"] != \"unknown\"] #Removed unknown records\r\n",
        "data_1 = data_1.drop([\"latitude\",\"longitude\"],axis = 1)  #Removed latitud and longitude\r\n",
        "data_1 = data_1.sort_values(by = [\"subscriber_id\",\"entry_date\"], ascending = True) #Sort values by subscriber_id and entry_date\r\n",
        "data_1[\"entry_date\"] = pd.to_datetime(data_1[\"entry_date\"]) \r\n",
        "data_1[\"day_entry_date\"] = [d.date() for d in data_1[\"entry_date\"]]"
      ],
      "execution_count": 11,
      "outputs": []
    },
    {
      "cell_type": "code",
      "metadata": {
        "colab": {
          "base_uri": "https://localhost:8080/",
          "height": 197
        },
        "id": "vmEevsTA4nXy",
        "outputId": "4ff21dac-e680-45b7-fc16-c337376d38b4"
      },
      "source": [
        "data_1.head()"
      ],
      "execution_count": 12,
      "outputs": [
        {
          "output_type": "execute_result",
          "data": {
            "text/html": [
              "<div>\n",
              "<style scoped>\n",
              "    .dataframe tbody tr th:only-of-type {\n",
              "        vertical-align: middle;\n",
              "    }\n",
              "\n",
              "    .dataframe tbody tr th {\n",
              "        vertical-align: top;\n",
              "    }\n",
              "\n",
              "    .dataframe thead th {\n",
              "        text-align: right;\n",
              "    }\n",
              "</style>\n",
              "<table border=\"1\" class=\"dataframe\">\n",
              "  <thead>\n",
              "    <tr style=\"text-align: right;\">\n",
              "      <th></th>\n",
              "      <th>gtid</th>\n",
              "      <th>vendor_id</th>\n",
              "      <th>subscriber_id</th>\n",
              "      <th>signal_type</th>\n",
              "      <th>entry_date</th>\n",
              "      <th>distance</th>\n",
              "      <th>proximity</th>\n",
              "      <th>day_entry_date</th>\n",
              "    </tr>\n",
              "  </thead>\n",
              "  <tbody>\n",
              "    <tr>\n",
              "      <th>80318</th>\n",
              "      <td>63C75856-B672-4175-9CAA-EF1A26A06814</td>\n",
              "      <td>6</td>\n",
              "      <td>26992</td>\n",
              "      <td>2</td>\n",
              "      <td>2017-07-29 15:51:08</td>\n",
              "      <td>1807.501630</td>\n",
              "      <td>far</td>\n",
              "      <td>2017-07-29</td>\n",
              "    </tr>\n",
              "    <tr>\n",
              "      <th>80836</th>\n",
              "      <td>91A411BF-6FE5-4E41-ACDC-85D1825D197A</td>\n",
              "      <td>6</td>\n",
              "      <td>26992</td>\n",
              "      <td>2</td>\n",
              "      <td>2017-07-29 15:51:48</td>\n",
              "      <td>2017.969873</td>\n",
              "      <td>far</td>\n",
              "      <td>2017-07-29</td>\n",
              "    </tr>\n",
              "    <tr>\n",
              "      <th>83933</th>\n",
              "      <td>E3BE7BF7-2583-48E1-A5B8-9013F77FE63E</td>\n",
              "      <td>6</td>\n",
              "      <td>26992</td>\n",
              "      <td>2</td>\n",
              "      <td>2017-07-29 15:54:46</td>\n",
              "      <td>681.292069</td>\n",
              "      <td>far</td>\n",
              "      <td>2017-07-29</td>\n",
              "    </tr>\n",
              "    <tr>\n",
              "      <th>80322</th>\n",
              "      <td>22D56BAA-AEB2-4796-8B2D-AEB44CF83CF8</td>\n",
              "      <td>6</td>\n",
              "      <td>26992</td>\n",
              "      <td>2</td>\n",
              "      <td>2017-07-29 15:58:09</td>\n",
              "      <td>1527.666797</td>\n",
              "      <td>far</td>\n",
              "      <td>2017-07-29</td>\n",
              "    </tr>\n",
              "    <tr>\n",
              "      <th>83935</th>\n",
              "      <td>8091EAB2-FEB7-4F31-9A66-359EBB992049</td>\n",
              "      <td>6</td>\n",
              "      <td>26992</td>\n",
              "      <td>2</td>\n",
              "      <td>2017-07-29 16:00:01</td>\n",
              "      <td>1573.744946</td>\n",
              "      <td>far</td>\n",
              "      <td>2017-07-29</td>\n",
              "    </tr>\n",
              "  </tbody>\n",
              "</table>\n",
              "</div>"
            ],
            "text/plain": [
              "                                       gtid  vendor_id  ...  proximity  day_entry_date\n",
              "80318  63C75856-B672-4175-9CAA-EF1A26A06814          6  ...        far      2017-07-29\n",
              "80836  91A411BF-6FE5-4E41-ACDC-85D1825D197A          6  ...        far      2017-07-29\n",
              "83933  E3BE7BF7-2583-48E1-A5B8-9013F77FE63E          6  ...        far      2017-07-29\n",
              "80322  22D56BAA-AEB2-4796-8B2D-AEB44CF83CF8          6  ...        far      2017-07-29\n",
              "83935  8091EAB2-FEB7-4F31-9A66-359EBB992049          6  ...        far      2017-07-29\n",
              "\n",
              "[5 rows x 8 columns]"
            ]
          },
          "metadata": {
            "tags": []
          },
          "execution_count": 12
        }
      ]
    },
    {
      "cell_type": "markdown",
      "metadata": {
        "id": "YGGLxm214sIl"
      },
      "source": [
        "## **Step 4: Customer per day and sales per day**\r\n",
        "In this stage, the sales per day were calculated for each vendor_Id"
      ]
    },
    {
      "cell_type": "code",
      "metadata": {
        "colab": {
          "base_uri": "https://localhost:8080/",
          "height": 197
        },
        "id": "heASxEQi44ft",
        "outputId": "913c1bc3-29c9-4644-a25b-7b881ae749fa"
      },
      "source": [
        "sales_per_day = data_1[data_1[\"proximity\"].isin([\"immediate\",\"near\"])]\r\n",
        "sales_per_day = sales_per_day.groupby([\"vendor_id\",\"day_entry_date\"]).agg({\"subscriber_id\":pd.Series.nunique}).rename(columns = {\"subscriber_id\":\"subscriber_unique\"}).reset_index()\r\n",
        "\r\n",
        "sales_per_day.head()"
      ],
      "execution_count": 13,
      "outputs": [
        {
          "output_type": "execute_result",
          "data": {
            "text/html": [
              "<div>\n",
              "<style scoped>\n",
              "    .dataframe tbody tr th:only-of-type {\n",
              "        vertical-align: middle;\n",
              "    }\n",
              "\n",
              "    .dataframe tbody tr th {\n",
              "        vertical-align: top;\n",
              "    }\n",
              "\n",
              "    .dataframe thead th {\n",
              "        text-align: right;\n",
              "    }\n",
              "</style>\n",
              "<table border=\"1\" class=\"dataframe\">\n",
              "  <thead>\n",
              "    <tr style=\"text-align: right;\">\n",
              "      <th></th>\n",
              "      <th>vendor_id</th>\n",
              "      <th>day_entry_date</th>\n",
              "      <th>subscriber_unique</th>\n",
              "    </tr>\n",
              "  </thead>\n",
              "  <tbody>\n",
              "    <tr>\n",
              "      <th>0</th>\n",
              "      <td>6</td>\n",
              "      <td>2017-05-02</td>\n",
              "      <td>1</td>\n",
              "    </tr>\n",
              "    <tr>\n",
              "      <th>1</th>\n",
              "      <td>6</td>\n",
              "      <td>2017-05-06</td>\n",
              "      <td>1</td>\n",
              "    </tr>\n",
              "    <tr>\n",
              "      <th>2</th>\n",
              "      <td>6</td>\n",
              "      <td>2017-05-08</td>\n",
              "      <td>2</td>\n",
              "    </tr>\n",
              "    <tr>\n",
              "      <th>3</th>\n",
              "      <td>6</td>\n",
              "      <td>2017-05-13</td>\n",
              "      <td>1</td>\n",
              "    </tr>\n",
              "    <tr>\n",
              "      <th>4</th>\n",
              "      <td>6</td>\n",
              "      <td>2017-05-19</td>\n",
              "      <td>1</td>\n",
              "    </tr>\n",
              "  </tbody>\n",
              "</table>\n",
              "</div>"
            ],
            "text/plain": [
              "   vendor_id day_entry_date  subscriber_unique\n",
              "0          6     2017-05-02                  1\n",
              "1          6     2017-05-06                  1\n",
              "2          6     2017-05-08                  2\n",
              "3          6     2017-05-13                  1\n",
              "4          6     2017-05-19                  1"
            ]
          },
          "metadata": {
            "tags": []
          },
          "execution_count": 13
        }
      ]
    },
    {
      "cell_type": "markdown",
      "metadata": {
        "id": "51KhsiwK6ZDe"
      },
      "source": [
        "## **Step 5: LSTM Model**\r\n",
        "This model will allow to predict sales for each vendor_id. The first step is to prepare the data in the appropriate format for this model."
      ]
    },
    {
      "cell_type": "code",
      "metadata": {
        "id": "SPSJrcwm6Ysn"
      },
      "source": [
        "# Reframe time series for lstm\r\n",
        "def convert_timeseries(data, n_in=1, n_out=1, dropnan=True):\r\n",
        "\t#covert timeseries data to t-n to t-1 form\r\n",
        "\t#n defines how many previous value should be taken into consideration\r\n",
        "\tn_vars = 1 if type(data) is list else data.shape[1]\r\n",
        "\tdf = pd.DataFrame(data)\r\n",
        "\tcols, names = list(), list()\r\n",
        "\t# input sequence (t-n, ... t-1)\r\n",
        "\tfor i in range(n_in, 0, -1):\r\n",
        "\t\tcols.append(df.shift(i))\r\n",
        "\t\tnames += [('var%d(t-%d)' % (j+1, i)) for j in range(n_vars)]\r\n",
        "\t# forecast sequence (t, t+1, ... t+n)\r\n",
        "\tfor i in range(0, n_out):\r\n",
        "\t\tcols.append(df.shift(-i))\r\n",
        "\t\tif i == 0:\r\n",
        "\t\t\tnames += [('var%d(t)' % (j+1)) for j in range(n_vars)]\r\n",
        "\t\telse:\r\n",
        "\t\t\tnames += [('var%d(t+%d)' % (j+1, i)) for j in range(n_vars)]\r\n",
        "\t# put it all together\r\n",
        "\tagg = pd.concat(cols, axis=1)\r\n",
        "\tagg.columns = names\r\n",
        "\t# drop rows with NaN values\r\n",
        "\tif dropnan:\r\n",
        "\t\tagg.dropna(inplace=True)\r\n",
        "\treturn agg"
      ],
      "execution_count": 14,
      "outputs": []
    },
    {
      "cell_type": "code",
      "metadata": {
        "id": "NNdHWE9Z7QOE"
      },
      "source": [
        "sales_per_day.index = sales_per_day.day_entry_date\r\n",
        "sales_per_day = sales_per_day.sort_index()\r\n",
        "\r\n",
        "encoder = LabelEncoder() #Enconde the day\r\n",
        "sales_per_day['day_entry_date'] = encoder.fit_transform(sales_per_day['day_entry_date'])\r\n",
        "\r\n",
        "# Convert the time series \r\n",
        "new_df_sales_per_day = convert_timeseries(sales_per_day, 2, 1)\r\n",
        "\r\n",
        "# Rename the columns to indentify the timesteps\r\n",
        "new_df_sales_per_day.columns = ['vendor_id (t-2)', 'entry(t-2)', 'sales(t-2)','vendor_id (t-1)', 'entry(t-1)', 'sales(t-1)', 'vendor_id (t)', 'entry(t)', 'sales(t)']"
      ],
      "execution_count": 19,
      "outputs": []
    },
    {
      "cell_type": "code",
      "metadata": {
        "colab": {
          "base_uri": "https://localhost:8080/",
          "height": 227
        },
        "id": "HuPiqQK-9vO3",
        "outputId": "efe3a11e-548b-4327-a3e2-452cff4dfeed"
      },
      "source": [
        "new_df_sales_per_day.head()"
      ],
      "execution_count": 20,
      "outputs": [
        {
          "output_type": "execute_result",
          "data": {
            "text/html": [
              "<div>\n",
              "<style scoped>\n",
              "    .dataframe tbody tr th:only-of-type {\n",
              "        vertical-align: middle;\n",
              "    }\n",
              "\n",
              "    .dataframe tbody tr th {\n",
              "        vertical-align: top;\n",
              "    }\n",
              "\n",
              "    .dataframe thead th {\n",
              "        text-align: right;\n",
              "    }\n",
              "</style>\n",
              "<table border=\"1\" class=\"dataframe\">\n",
              "  <thead>\n",
              "    <tr style=\"text-align: right;\">\n",
              "      <th></th>\n",
              "      <th>vendor_id (t-2)</th>\n",
              "      <th>entry(t-2)</th>\n",
              "      <th>sales(t-2)</th>\n",
              "      <th>vendor_id (t-1)</th>\n",
              "      <th>entry(t-1)</th>\n",
              "      <th>sales(t-1)</th>\n",
              "      <th>vendor_id (t)</th>\n",
              "      <th>entry(t)</th>\n",
              "      <th>sales(t)</th>\n",
              "    </tr>\n",
              "    <tr>\n",
              "      <th>day_entry_date</th>\n",
              "      <th></th>\n",
              "      <th></th>\n",
              "      <th></th>\n",
              "      <th></th>\n",
              "      <th></th>\n",
              "      <th></th>\n",
              "      <th></th>\n",
              "      <th></th>\n",
              "      <th></th>\n",
              "    </tr>\n",
              "  </thead>\n",
              "  <tbody>\n",
              "    <tr>\n",
              "      <th>0</th>\n",
              "      <td>342.0</td>\n",
              "      <td>0.0</td>\n",
              "      <td>1.0</td>\n",
              "      <td>331.0</td>\n",
              "      <td>0.0</td>\n",
              "      <td>3.0</td>\n",
              "      <td>110</td>\n",
              "      <td>0</td>\n",
              "      <td>4</td>\n",
              "    </tr>\n",
              "    <tr>\n",
              "      <th>0</th>\n",
              "      <td>331.0</td>\n",
              "      <td>0.0</td>\n",
              "      <td>3.0</td>\n",
              "      <td>110.0</td>\n",
              "      <td>0.0</td>\n",
              "      <td>4.0</td>\n",
              "      <td>178</td>\n",
              "      <td>0</td>\n",
              "      <td>1</td>\n",
              "    </tr>\n",
              "    <tr>\n",
              "      <th>0</th>\n",
              "      <td>110.0</td>\n",
              "      <td>0.0</td>\n",
              "      <td>4.0</td>\n",
              "      <td>178.0</td>\n",
              "      <td>0.0</td>\n",
              "      <td>1.0</td>\n",
              "      <td>135</td>\n",
              "      <td>0</td>\n",
              "      <td>1</td>\n",
              "    </tr>\n",
              "    <tr>\n",
              "      <th>1</th>\n",
              "      <td>178.0</td>\n",
              "      <td>0.0</td>\n",
              "      <td>1.0</td>\n",
              "      <td>135.0</td>\n",
              "      <td>0.0</td>\n",
              "      <td>1.0</td>\n",
              "      <td>6</td>\n",
              "      <td>1</td>\n",
              "      <td>1</td>\n",
              "    </tr>\n",
              "    <tr>\n",
              "      <th>1</th>\n",
              "      <td>135.0</td>\n",
              "      <td>0.0</td>\n",
              "      <td>1.0</td>\n",
              "      <td>6.0</td>\n",
              "      <td>1.0</td>\n",
              "      <td>1.0</td>\n",
              "      <td>331</td>\n",
              "      <td>1</td>\n",
              "      <td>5</td>\n",
              "    </tr>\n",
              "  </tbody>\n",
              "</table>\n",
              "</div>"
            ],
            "text/plain": [
              "                vendor_id (t-2)  entry(t-2)  ...  entry(t)  sales(t)\n",
              "day_entry_date                               ...                    \n",
              "0                         342.0         0.0  ...         0         4\n",
              "0                         331.0         0.0  ...         0         1\n",
              "0                         110.0         0.0  ...         0         1\n",
              "1                         178.0         0.0  ...         1         1\n",
              "1                         135.0         0.0  ...         1         5\n",
              "\n",
              "[5 rows x 9 columns]"
            ]
          },
          "metadata": {
            "tags": []
          },
          "execution_count": 20
        }
      ]
    },
    {
      "cell_type": "markdown",
      "metadata": {
        "id": "n0SXPJvc8PQj"
      },
      "source": [
        "The next step is to divide the dataframe into a training and testing set."
      ]
    },
    {
      "cell_type": "code",
      "metadata": {
        "colab": {
          "base_uri": "https://localhost:8080/",
          "height": 1000
        },
        "id": "VMuM2Qv08NDk",
        "outputId": "ea9eac42-4731-4602-a75a-7ce7b076b899"
      },
      "source": [
        "values = new_df_sales_per_day.values\r\n",
        "\r\n",
        "X_train, X_test, y_train, y_test = train_test_split(values[:,:-1], values[:,-1], test_size=0.3, random_state=1)\r\n",
        "\r\n",
        "X_train = X_train.reshape((X_train.shape[0], 1, X_train.shape[1])) # reshape input\r\n",
        "X_test = X_test.reshape((X_test.shape[0], 1, X_test.shape[1])) # reshape input\r\n",
        "\r\n",
        "print('Shpe: X_train: ', X_train.shape)\r\n",
        "print('Shape Y_train: ', y_train.shape)\r\n",
        "print('Shape X_test: ', X_test.shape)\r\n",
        "print('Shape Y_test: ', y_test.shape)\r\n",
        "\r\n",
        "# design network\r\n",
        "model = Sequential()\r\n",
        "model.add(LSTM(100, activation='relu', input_shape=(X_train.shape[1], X_train.shape[2])))\r\n",
        "model.add(Dense(1))\r\n",
        "sgd = optimizers.Adam(learning_rate=0.01)\r\n",
        "model.compile(loss='mae', optimizer='adam')\r\n",
        "\r\n",
        "# fit network\r\n",
        "history = model.fit(X_train, y_train, epochs=100, batch_size=15, validation_data=(X_test, y_test), verbose=2, shuffle=False)\r\n",
        "# plot history\r\n",
        "plt.plot(history.history['loss'], label='Training Loss')\r\n",
        "plt.plot(history.history['val_loss'], label='Validation Loss')\r\n",
        "plt.legend()\r\n",
        "plt.show()\r\n"
      ],
      "execution_count": 21,
      "outputs": [
        {
          "output_type": "stream",
          "text": [
            "Shpe: X_train:  (479, 1, 8)\n",
            "Shape Y_train:  (479,)\n",
            "Shape X_test:  (206, 1, 8)\n",
            "Shape Y_test:  (206,)\n",
            "Epoch 1/100\n",
            "32/32 - 2s - loss: 3.2056 - val_loss: 1.9606\n",
            "Epoch 2/100\n",
            "32/32 - 0s - loss: 1.3968 - val_loss: 1.3677\n",
            "Epoch 3/100\n",
            "32/32 - 0s - loss: 1.1684 - val_loss: 1.2891\n",
            "Epoch 4/100\n",
            "32/32 - 0s - loss: 1.0274 - val_loss: 1.3483\n",
            "Epoch 5/100\n",
            "32/32 - 0s - loss: 1.1900 - val_loss: 1.1658\n",
            "Epoch 6/100\n",
            "32/32 - 0s - loss: 0.9391 - val_loss: 1.1948\n",
            "Epoch 7/100\n",
            "32/32 - 0s - loss: 0.9101 - val_loss: 1.0070\n",
            "Epoch 8/100\n",
            "32/32 - 0s - loss: 0.8019 - val_loss: 1.0401\n",
            "Epoch 9/100\n",
            "32/32 - 0s - loss: 0.8567 - val_loss: 0.9833\n",
            "Epoch 10/100\n",
            "32/32 - 0s - loss: 0.8351 - val_loss: 0.9991\n",
            "Epoch 11/100\n",
            "32/32 - 0s - loss: 0.8361 - val_loss: 1.0610\n",
            "Epoch 12/100\n",
            "32/32 - 0s - loss: 0.7856 - val_loss: 0.9866\n",
            "Epoch 13/100\n",
            "32/32 - 0s - loss: 0.7927 - val_loss: 0.9963\n",
            "Epoch 14/100\n",
            "32/32 - 0s - loss: 0.8175 - val_loss: 1.0224\n",
            "Epoch 15/100\n",
            "32/32 - 0s - loss: 0.7789 - val_loss: 0.9825\n",
            "Epoch 16/100\n",
            "32/32 - 0s - loss: 0.7212 - val_loss: 0.8722\n",
            "Epoch 17/100\n",
            "32/32 - 0s - loss: 0.7209 - val_loss: 0.8786\n",
            "Epoch 18/100\n",
            "32/32 - 0s - loss: 0.7307 - val_loss: 0.9101\n",
            "Epoch 19/100\n",
            "32/32 - 0s - loss: 0.6934 - val_loss: 0.8357\n",
            "Epoch 20/100\n",
            "32/32 - 0s - loss: 0.7320 - val_loss: 0.9145\n",
            "Epoch 21/100\n",
            "32/32 - 0s - loss: 0.6999 - val_loss: 0.8539\n",
            "Epoch 22/100\n",
            "32/32 - 0s - loss: 0.7248 - val_loss: 0.8452\n",
            "Epoch 23/100\n",
            "32/32 - 0s - loss: 0.7086 - val_loss: 0.8479\n",
            "Epoch 24/100\n",
            "32/32 - 0s - loss: 0.7006 - val_loss: 0.8716\n",
            "Epoch 25/100\n",
            "32/32 - 0s - loss: 0.6744 - val_loss: 0.8014\n",
            "Epoch 26/100\n",
            "32/32 - 0s - loss: 0.6759 - val_loss: 0.9567\n",
            "Epoch 27/100\n",
            "32/32 - 0s - loss: 0.7144 - val_loss: 0.8536\n",
            "Epoch 28/100\n",
            "32/32 - 0s - loss: 0.6749 - val_loss: 0.9162\n",
            "Epoch 29/100\n",
            "32/32 - 0s - loss: 0.7120 - val_loss: 0.9465\n",
            "Epoch 30/100\n",
            "32/32 - 0s - loss: 0.7266 - val_loss: 0.8554\n",
            "Epoch 31/100\n",
            "32/32 - 0s - loss: 0.6643 - val_loss: 0.8693\n",
            "Epoch 32/100\n",
            "32/32 - 0s - loss: 0.6624 - val_loss: 0.8412\n",
            "Epoch 33/100\n",
            "32/32 - 0s - loss: 0.6585 - val_loss: 0.8619\n",
            "Epoch 34/100\n",
            "32/32 - 0s - loss: 0.6618 - val_loss: 0.8178\n",
            "Epoch 35/100\n",
            "32/32 - 0s - loss: 0.6616 - val_loss: 0.8491\n",
            "Epoch 36/100\n",
            "32/32 - 0s - loss: 0.6674 - val_loss: 0.8749\n",
            "Epoch 37/100\n",
            "32/32 - 0s - loss: 0.6933 - val_loss: 0.8022\n",
            "Epoch 38/100\n",
            "32/32 - 0s - loss: 0.6645 - val_loss: 0.8773\n",
            "Epoch 39/100\n",
            "32/32 - 0s - loss: 0.6877 - val_loss: 0.8822\n",
            "Epoch 40/100\n",
            "32/32 - 0s - loss: 0.6496 - val_loss: 0.8494\n",
            "Epoch 41/100\n",
            "32/32 - 0s - loss: 0.6052 - val_loss: 0.7972\n",
            "Epoch 42/100\n",
            "32/32 - 0s - loss: 0.6603 - val_loss: 0.8850\n",
            "Epoch 43/100\n",
            "32/32 - 0s - loss: 0.6485 - val_loss: 0.8163\n",
            "Epoch 44/100\n",
            "32/32 - 0s - loss: 0.6615 - val_loss: 0.9997\n",
            "Epoch 45/100\n",
            "32/32 - 0s - loss: 0.7087 - val_loss: 0.8421\n",
            "Epoch 46/100\n",
            "32/32 - 0s - loss: 0.6353 - val_loss: 0.8275\n",
            "Epoch 47/100\n",
            "32/32 - 0s - loss: 0.6813 - val_loss: 0.8558\n",
            "Epoch 48/100\n",
            "32/32 - 0s - loss: 0.6318 - val_loss: 0.8418\n",
            "Epoch 49/100\n",
            "32/32 - 0s - loss: 0.6643 - val_loss: 0.9120\n",
            "Epoch 50/100\n",
            "32/32 - 0s - loss: 0.6367 - val_loss: 0.8296\n",
            "Epoch 51/100\n",
            "32/32 - 0s - loss: 0.6585 - val_loss: 0.8967\n",
            "Epoch 52/100\n",
            "32/32 - 0s - loss: 0.6640 - val_loss: 0.9960\n",
            "Epoch 53/100\n",
            "32/32 - 0s - loss: 0.6422 - val_loss: 0.8818\n",
            "Epoch 54/100\n",
            "32/32 - 0s - loss: 0.6646 - val_loss: 1.0132\n",
            "Epoch 55/100\n",
            "32/32 - 0s - loss: 0.6749 - val_loss: 0.8805\n",
            "Epoch 56/100\n",
            "32/32 - 0s - loss: 0.6132 - val_loss: 0.7803\n",
            "Epoch 57/100\n",
            "32/32 - 0s - loss: 0.6410 - val_loss: 0.8800\n",
            "Epoch 58/100\n",
            "32/32 - 0s - loss: 0.6426 - val_loss: 0.8536\n",
            "Epoch 59/100\n",
            "32/32 - 0s - loss: 0.6127 - val_loss: 0.8716\n",
            "Epoch 60/100\n",
            "32/32 - 0s - loss: 0.6267 - val_loss: 0.8085\n",
            "Epoch 61/100\n",
            "32/32 - 0s - loss: 0.6418 - val_loss: 0.9778\n",
            "Epoch 62/100\n",
            "32/32 - 0s - loss: 0.6406 - val_loss: 0.8142\n",
            "Epoch 63/100\n",
            "32/32 - 0s - loss: 0.6123 - val_loss: 0.8144\n",
            "Epoch 64/100\n",
            "32/32 - 0s - loss: 0.6280 - val_loss: 0.8898\n",
            "Epoch 65/100\n",
            "32/32 - 0s - loss: 0.6184 - val_loss: 0.9038\n",
            "Epoch 66/100\n",
            "32/32 - 0s - loss: 0.6580 - val_loss: 0.9641\n",
            "Epoch 67/100\n",
            "32/32 - 0s - loss: 0.6495 - val_loss: 0.8316\n",
            "Epoch 68/100\n",
            "32/32 - 0s - loss: 0.6119 - val_loss: 0.9281\n",
            "Epoch 69/100\n",
            "32/32 - 0s - loss: 0.6204 - val_loss: 0.8856\n",
            "Epoch 70/100\n",
            "32/32 - 0s - loss: 0.6229 - val_loss: 0.9298\n",
            "Epoch 71/100\n",
            "32/32 - 0s - loss: 0.6278 - val_loss: 0.8223\n",
            "Epoch 72/100\n",
            "32/32 - 0s - loss: 0.6054 - val_loss: 0.8372\n",
            "Epoch 73/100\n",
            "32/32 - 0s - loss: 0.6210 - val_loss: 0.8183\n",
            "Epoch 74/100\n",
            "32/32 - 0s - loss: 0.6286 - val_loss: 0.8900\n",
            "Epoch 75/100\n",
            "32/32 - 0s - loss: 0.6265 - val_loss: 0.9054\n",
            "Epoch 76/100\n",
            "32/32 - 0s - loss: 0.6121 - val_loss: 0.8595\n",
            "Epoch 77/100\n",
            "32/32 - 0s - loss: 0.5696 - val_loss: 0.8007\n",
            "Epoch 78/100\n",
            "32/32 - 0s - loss: 0.5968 - val_loss: 0.8037\n",
            "Epoch 79/100\n",
            "32/32 - 0s - loss: 0.6058 - val_loss: 0.9114\n",
            "Epoch 80/100\n",
            "32/32 - 0s - loss: 0.6128 - val_loss: 0.9520\n",
            "Epoch 81/100\n",
            "32/32 - 0s - loss: 0.6261 - val_loss: 0.8286\n",
            "Epoch 82/100\n",
            "32/32 - 0s - loss: 0.6098 - val_loss: 0.8983\n",
            "Epoch 83/100\n",
            "32/32 - 0s - loss: 0.6435 - val_loss: 0.8573\n",
            "Epoch 84/100\n",
            "32/32 - 0s - loss: 0.5728 - val_loss: 0.7759\n",
            "Epoch 85/100\n",
            "32/32 - 0s - loss: 0.5814 - val_loss: 0.7728\n",
            "Epoch 86/100\n",
            "32/32 - 0s - loss: 0.6066 - val_loss: 0.8509\n",
            "Epoch 87/100\n",
            "32/32 - 0s - loss: 0.5831 - val_loss: 0.7904\n",
            "Epoch 88/100\n",
            "32/32 - 0s - loss: 0.6230 - val_loss: 0.8511\n",
            "Epoch 89/100\n",
            "32/32 - 0s - loss: 0.6058 - val_loss: 0.8851\n",
            "Epoch 90/100\n",
            "32/32 - 0s - loss: 0.6288 - val_loss: 0.8522\n",
            "Epoch 91/100\n",
            "32/32 - 0s - loss: 0.5930 - val_loss: 0.8267\n",
            "Epoch 92/100\n",
            "32/32 - 0s - loss: 0.5956 - val_loss: 0.8473\n",
            "Epoch 93/100\n",
            "32/32 - 0s - loss: 0.5677 - val_loss: 0.7824\n",
            "Epoch 94/100\n",
            "32/32 - 0s - loss: 0.6085 - val_loss: 0.9638\n",
            "Epoch 95/100\n",
            "32/32 - 0s - loss: 0.6427 - val_loss: 0.8610\n",
            "Epoch 96/100\n",
            "32/32 - 0s - loss: 0.6173 - val_loss: 0.8702\n",
            "Epoch 97/100\n",
            "32/32 - 0s - loss: 0.5976 - val_loss: 0.7970\n",
            "Epoch 98/100\n",
            "32/32 - 0s - loss: 0.5690 - val_loss: 0.7870\n",
            "Epoch 99/100\n",
            "32/32 - 0s - loss: 0.5676 - val_loss: 0.7974\n",
            "Epoch 100/100\n",
            "32/32 - 0s - loss: 0.6160 - val_loss: 0.8659\n"
          ],
          "name": "stdout"
        },
        {
          "output_type": "display_data",
          "data": {
            "image/png": "[encoded data removed]",
            "text/plain": [
              "<Figure size 432x288 with 1 Axes>"
            ]
          },
          "metadata": {
            "tags": [],
            "needs_background": "light"
          }
        }
      ]
    },
    {
      "cell_type": "markdown",
      "metadata": {
        "id": "LGeWjTgf-EvV"
      },
      "source": [
        "The loss looks pretty stable after 60 epochs. This shows that the model converges quickly. Once this step was done, the values ​​for the test data set were estimated."
      ]
    },
    {
      "cell_type": "code",
      "metadata": {
        "colab": {
          "base_uri": "https://localhost:8080/"
        },
        "id": "q2mMwpYZ945p",
        "outputId": "8c04556c-eb12-419a-8e48-dd49a1291fde"
      },
      "source": [
        "y_pred = model.predict(X_test) # Predict using the model\r\n",
        "print(X_test.shape)\r\n",
        "\r\n",
        "inv_yhat = np.concatenate((y_pred, X_test[:,0, 1:]), axis=1)\r\n",
        "\r\n",
        "inv_xp=inv_yhat[:,1:] #Input\r\n",
        "\r\n",
        "inv_yhat = inv_yhat[:,0] #Output\r\n",
        "\r\n",
        "y_test = y_test.reshape((len(y_test), 1))\r\n",
        "\r\n",
        "inv_y = np.concatenate((y_test, X_test[:,0, 1:]), axis=1)\r\n",
        "\r\n",
        "inv_y = inv_y[:,0] #Output\r\n",
        "\r\n",
        "# calculate RMSE\r\n",
        "rmse = np.sqrt(mean_squared_error(inv_y, inv_yhat))\r\n",
        "print('Test RMSE: %.3f' % rmse)"
      ],
      "execution_count": 23,
      "outputs": [
        {
          "output_type": "stream",
          "text": [
            "(206, 1, 8)\n",
            "Test RMSE: 1.191\n"
          ],
          "name": "stdout"
        }
      ]
    },
    {
      "cell_type": "markdown",
      "metadata": {
        "id": "kiDPQJlXEJ8t"
      },
      "source": [
        "The RMSE for the test data is 1.191. It is important to note that this value may have a little bias since in some cases the amount of data for certain vendor_id is very low."
      ]
    },
    {
      "cell_type": "code",
      "metadata": {
        "id": "sVcccb6o-c-n"
      },
      "source": [
        ""
      ],
      "execution_count": null,
      "outputs": []
    }
  ]
}