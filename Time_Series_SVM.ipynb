{
  "nbformat": 4,
  "nbformat_minor": 0,
  "metadata": {
    "colab": {
      "name": "Time_Series_SVM.ipynb",
      "provenance": [],
      "collapsed_sections": []
    },
    "kernelspec": {
      "name": "python3",
      "display_name": "Python 3"
    }
  },
  "cells": [
    {
      "cell_type": "markdown",
      "metadata": {
        "id": "-fejTTVlE-MM"
      },
      "source": [
        "# **SVM Model: Predict sales using data obtained from sensors within the store**"
      ]
    },
    {
      "cell_type": "code",
      "metadata": {
        "id": "P1AHerc4N1ya"
      },
      "source": [
        "import pandas as pd \n",
        "import numpy as np\n",
        "import matplotlib.pyplot as plt\n",
        "import datetime\n",
        "from google.colab import files\n",
        "import io"
      ],
      "execution_count": null,
      "outputs": []
    },
    {
      "cell_type": "code",
      "metadata": {
        "colab": {
          "resources": {
            "http://localhost:8080/nbextensions/google.colab/files.js": {
              "data": "Ly8gQ29weXJpZ2h0IDIwMTcgR29vZ2xlIExMQwovLwovLyBMaWNlbnNlZCB1bmRlciB0aGUgQXBhY2hlIExpY2Vuc2UsIFZlcnNpb24gMi4wICh0aGUgIkxpY2Vuc2UiKTsKLy8geW91IG1heSBub3QgdXNlIHRoaXMgZmlsZSBleGNlcHQgaW4gY29tcGxpYW5jZSB3aXRoIHRoZSBMaWNlbnNlLgovLyBZb3UgbWF5IG9idGFpbiBhIGNvcHkgb2YgdGhlIExpY2Vuc2UgYXQKLy8KLy8gICAgICBodHRwOi8vd3d3LmFwYWNoZS5vcmcvbGljZW5zZXMvTElDRU5TRS0yLjAKLy8KLy8gVW5sZXNzIHJlcXVpcmVkIGJ5IGFwcGxpY2FibGUgbGF3IG9yIGFncmVlZCB0byBpbiB3cml0aW5nLCBzb2Z0d2FyZQovLyBkaXN0cmlidXRlZCB1bmRlciB0aGUgTGljZW5zZSBpcyBkaXN0cmlidXRlZCBvbiBhbiAiQVMgSVMiIEJBU0lTLAovLyBXSVRIT1VUIFdBUlJBTlRJRVMgT1IgQ09ORElUSU9OUyBPRiBBTlkgS0lORCwgZWl0aGVyIGV4cHJlc3Mgb3IgaW1wbGllZC4KLy8gU2VlIHRoZSBMaWNlbnNlIGZvciB0aGUgc3BlY2lmaWMgbGFuZ3VhZ2UgZ292ZXJuaW5nIHBlcm1pc3Npb25zIGFuZAovLyBsaW1pdGF0aW9ucyB1bmRlciB0aGUgTGljZW5zZS4KCi8qKgogKiBAZmlsZW92ZXJ2aWV3IEhlbHBlcnMgZm9yIGdvb2dsZS5jb2xhYiBQeXRob24gbW9kdWxlLgogKi8KKGZ1bmN0aW9uKHNjb3BlKSB7CmZ1bmN0aW9uIHNwYW4odGV4dCwgc3R5bGVBdHRyaWJ1dGVzID0ge30pIHsKICBjb25zdCBlbGVtZW50ID0gZG9jdW1lbnQuY3JlYXRlRWxlbWVudCgnc3BhbicpOwogIGVsZW1lbnQudGV4dENvbnRlbnQgPSB0ZXh0OwogIGZvciAoY29uc3Qga2V5IG9mIE9iamVjdC5rZXlzKHN0eWxlQXR0cmlidXRlcykpIHsKICAgIGVsZW1lbnQuc3R5bGVba2V5XSA9IHN0eWxlQXR0cmlidXRlc1trZXldOwogIH0KICByZXR1cm4gZWxlbWVudDsKfQoKLy8gTWF4IG51bWJlciBvZiBieXRlcyB3aGljaCB3aWxsIGJlIHVwbG9hZGVkIGF0IGEgdGltZS4KY29uc3QgTUFYX1BBWUxPQURfU0laRSA9IDEwMCAqIDEwMjQ7CgpmdW5jdGlvbiBfdXBsb2FkRmlsZXMoaW5wdXRJZCwgb3V0cHV0SWQpIHsKICBjb25zdCBzdGVwcyA9IHVwbG9hZEZpbGVzU3RlcChpbnB1dElkLCBvdXRwdXRJZCk7CiAgY29uc3Qgb3V0cHV0RWxlbWVudCA9IGRvY3VtZW50LmdldEVsZW1lbnRCeUlkKG91dHB1dElkKTsKICAvLyBDYWNoZSBzdGVwcyBvbiB0aGUgb3V0cHV0RWxlbWVudCB0byBtYWtlIGl0IGF2YWlsYWJsZSBmb3IgdGhlIG5leHQgY2FsbAogIC8vIHRvIHVwbG9hZEZpbGVzQ29udGludWUgZnJvbSBQeXRob24uCiAgb3V0cHV0RWxlbWVudC5zdGVwcyA9IHN0ZXBzOwoKICByZXR1cm4gX3VwbG9hZEZpbGVzQ29udGludWUob3V0cHV0SWQpOwp9CgovLyBUaGlzIGlzIHJvdWdobHkgYW4gYXN5bmMgZ2VuZXJhdG9yIChub3Qgc3VwcG9ydGVkIGluIHRoZSBicm93c2VyIHlldCksCi8vIHdoZXJlIHRoZXJlIGFyZSBtdWx0aXBsZSBhc3luY2hyb25vdXMgc3RlcHMgYW5kIHRoZSBQeXRob24gc2lkZSBpcyBnb2luZwovLyB0byBwb2xsIGZvciBjb21wbGV0aW9uIG9mIGVhY2ggc3RlcC4KLy8gVGhpcyB1c2VzIGEgUHJvbWlzZSB0byBibG9jayB0aGUgcHl0aG9uIHNpZGUgb24gY29tcGxldGlvbiBvZiBlYWNoIHN0ZXAsCi8vIHRoZW4gcGFzc2VzIHRoZSByZXN1bHQgb2YgdGhlIHByZXZpb3VzIHN0ZXAgYXMgdGhlIGlucHV0IHRvIHRoZSBuZXh0IHN0ZXAuCmZ1bmN0aW9uIF91cGxvYWRGaWxlc0NvbnRpbnVlKG91dHB1dElkKSB7CiAgY29uc3Qgb3V0cHV0RWxlbWVudCA9IGRvY3VtZW50LmdldEVsZW1lbnRCeUlkKG91dHB1dElkKTsKICBjb25zdCBzdGVwcyA9IG91dHB1dEVsZW1lbnQuc3RlcHM7CgogIGNvbnN0IG5leHQgPSBzdGVwcy5uZXh0KG91dHB1dEVsZW1lbnQubGFzdFByb21pc2VWYWx1ZSk7CiAgcmV0dXJuIFByb21pc2UucmVzb2x2ZShuZXh0LnZhbHVlLnByb21pc2UpLnRoZW4oKHZhbHVlKSA9PiB7CiAgICAvLyBDYWNoZSB0aGUgbGFzdCBwcm9taXNlIHZhbHVlIHRvIG1ha2UgaXQgYXZhaWxhYmxlIHRvIHRoZSBuZXh0CiAgICAvLyBzdGVwIG9mIHRoZSBnZW5lcmF0b3IuCiAgICBvdXRwdXRFbGVtZW50Lmxhc3RQcm9taXNlVmFsdWUgPSB2YWx1ZTsKICAgIHJldHVybiBuZXh0LnZhbHVlLnJlc3BvbnNlOwogIH0pOwp9CgovKioKICogR2VuZXJhdG9yIGZ1bmN0aW9uIHdoaWNoIGlzIGNhbGxlZCBiZXR3ZWVuIGVhY2ggYXN5bmMgc3RlcCBvZiB0aGUgdXBsb2FkCiAqIHByb2Nlc3MuCiAqIEBwYXJhbSB7c3RyaW5nfSBpbnB1dElkIEVsZW1lbnQgSUQgb2YgdGhlIGlucHV0IGZpbGUgcGlja2VyIGVsZW1lbnQuCiAqIEBwYXJhbSB7c3RyaW5nfSBvdXRwdXRJZCBFbGVtZW50IElEIG9mIHRoZSBvdXRwdXQgZGlzcGxheS4KICogQHJldHVybiB7IUl0ZXJhYmxlPCFPYmplY3Q+fSBJdGVyYWJsZSBvZiBuZXh0IHN0ZXBzLgogKi8KZnVuY3Rpb24qIHVwbG9hZEZpbGVzU3RlcChpbnB1dElkLCBvdXRwdXRJZCkgewogIGNvbnN0IGlucHV0RWxlbWVudCA9IGRvY3VtZW50LmdldEVsZW1lbnRCeUlkKGlucHV0SWQpOwogIGlucHV0RWxlbWVudC5kaXNhYmxlZCA9IGZhbHNlOwoKICBjb25zdCBvdXRwdXRFbGVtZW50ID0gZG9jdW1lbnQuZ2V0RWxlbWVudEJ5SWQob3V0cHV0SWQpOwogIG91dHB1dEVsZW1lbnQuaW5uZXJIVE1MID0gJyc7CgogIGNvbnN0IHBpY2tlZFByb21pc2UgPSBuZXcgUHJvbWlzZSgocmVzb2x2ZSkgPT4gewogICAgaW5wdXRFbGVtZW50LmFkZEV2ZW50TGlzdGVuZXIoJ2NoYW5nZScsIChlKSA9PiB7CiAgICAgIHJlc29sdmUoZS50YXJnZXQuZmlsZXMpOwogICAgfSk7CiAgfSk7CgogIGNvbnN0IGNhbmNlbCA9IGRvY3VtZW50LmNyZWF0ZUVsZW1lbnQoJ2J1dHRvbicpOwogIGlucHV0RWxlbWVudC5wYXJlbnRFbGVtZW50LmFwcGVuZENoaWxkKGNhbmNlbCk7CiAgY2FuY2VsLnRleHRDb250ZW50ID0gJ0NhbmNlbCB1cGxvYWQnOwogIGNvbnN0IGNhbmNlbFByb21pc2UgPSBuZXcgUHJvbWlzZSgocmVzb2x2ZSkgPT4gewogICAgY2FuY2VsLm9uY2xpY2sgPSAoKSA9PiB7CiAgICAgIHJlc29sdmUobnVsbCk7CiAgICB9OwogIH0pOwoKICAvLyBXYWl0IGZvciB0aGUgdXNlciB0byBwaWNrIHRoZSBmaWxlcy4KICBjb25zdCBmaWxlcyA9IHlpZWxkIHsKICAgIHByb21pc2U6IFByb21pc2UucmFjZShbcGlja2VkUHJvbWlzZSwgY2FuY2VsUHJvbWlzZV0pLAogICAgcmVzcG9uc2U6IHsKICAgICAgYWN0aW9uOiAnc3RhcnRpbmcnLAogICAgfQogIH07CgogIGNhbmNlbC5yZW1vdmUoKTsKCiAgLy8gRGlzYWJsZSB0aGUgaW5wdXQgZWxlbWVudCBzaW5jZSBmdXJ0aGVyIHBpY2tzIGFyZSBub3QgYWxsb3dlZC4KICBpbnB1dEVsZW1lbnQuZGlzYWJsZWQgPSB0cnVlOwoKICBpZiAoIWZpbGVzKSB7CiAgICByZXR1cm4gewogICAgICByZXNwb25zZTogewogICAgICAgIGFjdGlvbjogJ2NvbXBsZXRlJywKICAgICAgfQogICAgfTsKICB9CgogIGZvciAoY29uc3QgZmlsZSBvZiBmaWxlcykgewogICAgY29uc3QgbGkgPSBkb2N1bWVudC5jcmVhdGVFbGVtZW50KCdsaScpOwogICAgbGkuYXBwZW5kKHNwYW4oZmlsZS5uYW1lLCB7Zm9udFdlaWdodDogJ2JvbGQnfSkpOwogICAgbGkuYXBwZW5kKHNwYW4oCiAgICAgICAgYCgke2ZpbGUudHlwZSB8fCAnbi9hJ30pIC0gJHtmaWxlLnNpemV9IGJ5dGVzLCBgICsKICAgICAgICBgbGFzdCBtb2RpZmllZDogJHsKICAgICAgICAgICAgZmlsZS5sYXN0TW9kaWZpZWREYXRlID8gZmlsZS5sYXN0TW9kaWZpZWREYXRlLnRvTG9jYWxlRGF0ZVN0cmluZygpIDoKICAgICAgICAgICAgICAgICAgICAgICAgICAgICAgICAgICAgJ24vYSd9IC0gYCkpOwogICAgY29uc3QgcGVyY2VudCA9IHNwYW4oJzAlIGRvbmUnKTsKICAgIGxpLmFwcGVuZENoaWxkKHBlcmNlbnQpOwoKICAgIG91dHB1dEVsZW1lbnQuYXBwZW5kQ2hpbGQobGkpOwoKICAgIGNvbnN0IGZpbGVEYXRhUHJvbWlzZSA9IG5ldyBQcm9taXNlKChyZXNvbHZlKSA9PiB7CiAgICAgIGNvbnN0IHJlYWRlciA9IG5ldyBGaWxlUmVhZGVyKCk7CiAgICAgIHJlYWRlci5vbmxvYWQgPSAoZSkgPT4gewogICAgICAgIHJlc29sdmUoZS50YXJnZXQucmVzdWx0KTsKICAgICAgfTsKICAgICAgcmVhZGVyLnJlYWRBc0FycmF5QnVmZmVyKGZpbGUpOwogICAgfSk7CiAgICAvLyBXYWl0IGZvciB0aGUgZGF0YSB0byBiZSByZWFkeS4KICAgIGxldCBmaWxlRGF0YSA9IHlpZWxkIHsKICAgICAgcHJvbWlzZTogZmlsZURhdGFQcm9taXNlLAogICAgICByZXNwb25zZTogewogICAgICAgIGFjdGlvbjogJ2NvbnRpbnVlJywKICAgICAgfQogICAgfTsKCiAgICAvLyBVc2UgYSBjaHVua2VkIHNlbmRpbmcgdG8gYXZvaWQgbWVzc2FnZSBzaXplIGxpbWl0cy4gU2VlIGIvNjIxMTU2NjAuCiAgICBsZXQgcG9zaXRpb24gPSAwOwogICAgd2hpbGUgKHBvc2l0aW9uIDwgZmlsZURhdGEuYnl0ZUxlbmd0aCkgewogICAgICBjb25zdCBsZW5ndGggPSBNYXRoLm1pbihmaWxlRGF0YS5ieXRlTGVuZ3RoIC0gcG9zaXRpb24sIE1BWF9QQVlMT0FEX1NJWkUpOwogICAgICBjb25zdCBjaHVuayA9IG5ldyBVaW50OEFycmF5KGZpbGVEYXRhLCBwb3NpdGlvbiwgbGVuZ3RoKTsKICAgICAgcG9zaXRpb24gKz0gbGVuZ3RoOwoKICAgICAgY29uc3QgYmFzZTY0ID0gYnRvYShTdHJpbmcuZnJvbUNoYXJDb2RlLmFwcGx5KG51bGwsIGNodW5rKSk7CiAgICAgIHlpZWxkIHsKICAgICAgICByZXNwb25zZTogewogICAgICAgICAgYWN0aW9uOiAnYXBwZW5kJywKICAgICAgICAgIGZpbGU6IGZpbGUubmFtZSwKICAgICAgICAgIGRhdGE6IGJhc2U2NCwKICAgICAgICB9LAogICAgICB9OwogICAgICBwZXJjZW50LnRleHRDb250ZW50ID0KICAgICAgICAgIGAke01hdGgucm91bmQoKHBvc2l0aW9uIC8gZmlsZURhdGEuYnl0ZUxlbmd0aCkgKiAxMDApfSUgZG9uZWA7CiAgICB9CiAgfQoKICAvLyBBbGwgZG9uZS4KICB5aWVsZCB7CiAgICByZXNwb25zZTogewogICAgICBhY3Rpb246ICdjb21wbGV0ZScsCiAgICB9CiAgfTsKfQoKc2NvcGUuZ29vZ2xlID0gc2NvcGUuZ29vZ2xlIHx8IHt9OwpzY29wZS5nb29nbGUuY29sYWIgPSBzY29wZS5nb29nbGUuY29sYWIgfHwge307CnNjb3BlLmdvb2dsZS5jb2xhYi5fZmlsZXMgPSB7CiAgX3VwbG9hZEZpbGVzLAogIF91cGxvYWRGaWxlc0NvbnRpbnVlLAp9Owp9KShzZWxmKTsK",
              "ok": true,
              "headers": [
                [
                  "content-type",
                  "application/javascript"
                ]
              ],
              "status": 200,
              "status_text": ""
            }
          },
          "base_uri": "https://localhost:8080/",
          "height": 73
        },
        "id": "WnIiJ0pUPouA",
        "outputId": "e0c11eaf-75dc-4a40-da6e-c305da1d4f9b"
      },
      "source": [
        "uploaded = files.upload()"
      ],
      "execution_count": null,
      "outputs": [
        {
          "output_type": "display_data",
          "data": {
            "text/html": [
              "\n",
              "     <input type=\"file\" id=\"files-36bd7746-8a6d-4ab3-8cbf-7b6de0049b2e\" name=\"files[]\" multiple disabled\n",
              "        style=\"border:none\" />\n",
              "     <output id=\"result-36bd7746-8a6d-4ab3-8cbf-7b6de0049b2e\">\n",
              "      Upload widget is only available when the cell has been executed in the\n",
              "      current browser session. Please rerun this cell to enable.\n",
              "      </output>\n",
              "      <script src=\"/nbextensions/google.colab/files.js\"></script> "
            ],
            "text/plain": [
              "<IPython.core.display.HTML object>"
            ]
          },
          "metadata": {
            "tags": []
          }
        },
        {
          "output_type": "stream",
          "text": [
            "Saving beacon_data.csv to beacon_data.csv\n"
          ],
          "name": "stdout"
        }
      ]
    },
    {
      "cell_type": "code",
      "metadata": {
        "id": "b0U-KtssPtT_"
      },
      "source": [
        "data = pd.read_csv(io.BytesIO(uploaded[\"beacon_data.csv\"]),sep = ';') #read the .csv file"
      ],
      "execution_count": null,
      "outputs": []
    },
    {
      "cell_type": "code",
      "metadata": {
        "colab": {
          "base_uri": "https://localhost:8080/",
          "height": 194
        },
        "id": "pyvIeBVNUOze",
        "outputId": "857443df-03bb-4d4f-b3b0-9e3cfe88db23"
      },
      "source": [
        "data.head()"
      ],
      "execution_count": null,
      "outputs": [
        {
          "output_type": "execute_result",
          "data": {
            "text/html": [
              "<div>\n",
              "<style scoped>\n",
              "    .dataframe tbody tr th:only-of-type {\n",
              "        vertical-align: middle;\n",
              "    }\n",
              "\n",
              "    .dataframe tbody tr th {\n",
              "        vertical-align: top;\n",
              "    }\n",
              "\n",
              "    .dataframe thead th {\n",
              "        text-align: right;\n",
              "    }\n",
              "</style>\n",
              "<table border=\"1\" class=\"dataframe\">\n",
              "  <thead>\n",
              "    <tr style=\"text-align: right;\">\n",
              "      <th></th>\n",
              "      <th>id</th>\n",
              "      <th>gtid</th>\n",
              "      <th>vendor_id</th>\n",
              "      <th>subscriber_id</th>\n",
              "      <th>merchant_id</th>\n",
              "      <th>signal_type</th>\n",
              "      <th>entry_date</th>\n",
              "      <th>exit_date</th>\n",
              "      <th>latitude</th>\n",
              "      <th>longitude</th>\n",
              "      <th>dongle_id</th>\n",
              "      <th>distance</th>\n",
              "      <th>proximity</th>\n",
              "      <th>rssi</th>\n",
              "    </tr>\n",
              "  </thead>\n",
              "  <tbody>\n",
              "    <tr>\n",
              "      <th>0</th>\n",
              "      <td>2339839562</td>\n",
              "      <td>F9341167-6D6C-4321-924F-2E6B9D9CEF7A</td>\n",
              "      <td>135</td>\n",
              "      <td>29253903</td>\n",
              "      <td>2133</td>\n",
              "      <td>2</td>\n",
              "      <td>2017-05-01 09:54:14.000000</td>\n",
              "      <td>NaN</td>\n",
              "      <td>40.992124</td>\n",
              "      <td>29.126770</td>\n",
              "      <td>5536</td>\n",
              "      <td>-100.000000</td>\n",
              "      <td>unknown</td>\n",
              "      <td>0.0</td>\n",
              "    </tr>\n",
              "    <tr>\n",
              "      <th>1</th>\n",
              "      <td>2340151194</td>\n",
              "      <td>EB93B8DF-1F8D-4BD6-A4E5-67B9BACBF6CF</td>\n",
              "      <td>135</td>\n",
              "      <td>17090954</td>\n",
              "      <td>2133</td>\n",
              "      <td>2</td>\n",
              "      <td>2017-05-01 10:28:45.000000</td>\n",
              "      <td>NaN</td>\n",
              "      <td>40.992183</td>\n",
              "      <td>29.126761</td>\n",
              "      <td>5536</td>\n",
              "      <td>1668.100537</td>\n",
              "      <td>far</td>\n",
              "      <td>-86.0</td>\n",
              "    </tr>\n",
              "    <tr>\n",
              "      <th>2</th>\n",
              "      <td>2340151210</td>\n",
              "      <td>5563AB7A-C5B0-492D-80E5-04E52A5C0C28</td>\n",
              "      <td>135</td>\n",
              "      <td>17090954</td>\n",
              "      <td>2133</td>\n",
              "      <td>2</td>\n",
              "      <td>2017-05-01 10:28:45.000000</td>\n",
              "      <td>NaN</td>\n",
              "      <td>40.992183</td>\n",
              "      <td>29.126761</td>\n",
              "      <td>5536</td>\n",
              "      <td>1668.100537</td>\n",
              "      <td>far</td>\n",
              "      <td>-86.0</td>\n",
              "    </tr>\n",
              "    <tr>\n",
              "      <th>3</th>\n",
              "      <td>2340151187</td>\n",
              "      <td>55AFD11A-06A3-4E9D-8735-445F3DE654D7</td>\n",
              "      <td>178</td>\n",
              "      <td>15630196</td>\n",
              "      <td>2133</td>\n",
              "      <td>2</td>\n",
              "      <td>2017-05-01 10:28:45.000000</td>\n",
              "      <td>NaN</td>\n",
              "      <td>40.992183</td>\n",
              "      <td>29.126761</td>\n",
              "      <td>5536</td>\n",
              "      <td>1668.100537</td>\n",
              "      <td>far</td>\n",
              "      <td>-86.0</td>\n",
              "    </tr>\n",
              "    <tr>\n",
              "      <th>4</th>\n",
              "      <td>2340185826</td>\n",
              "      <td>52DE3BD3-655B-40F2-AC37-1199E0CBD31B</td>\n",
              "      <td>178</td>\n",
              "      <td>15630196</td>\n",
              "      <td>2133</td>\n",
              "      <td>2</td>\n",
              "      <td>2017-05-01 10:32:19.000000</td>\n",
              "      <td>NaN</td>\n",
              "      <td>40.992110</td>\n",
              "      <td>29.126783</td>\n",
              "      <td>5536</td>\n",
              "      <td>1467.799268</td>\n",
              "      <td>far</td>\n",
              "      <td>-85.0</td>\n",
              "    </tr>\n",
              "  </tbody>\n",
              "</table>\n",
              "</div>"
            ],
            "text/plain": [
              "           id                                  gtid  ...  proximity  rssi\n",
              "0  2339839562  F9341167-6D6C-4321-924F-2E6B9D9CEF7A  ...    unknown   0.0\n",
              "1  2340151194  EB93B8DF-1F8D-4BD6-A4E5-67B9BACBF6CF  ...        far -86.0\n",
              "2  2340151210  5563AB7A-C5B0-492D-80E5-04E52A5C0C28  ...        far -86.0\n",
              "3  2340151187  55AFD11A-06A3-4E9D-8735-445F3DE654D7  ...        far -86.0\n",
              "4  2340185826  52DE3BD3-655B-40F2-AC37-1199E0CBD31B  ...        far -85.0\n",
              "\n",
              "[5 rows x 14 columns]"
            ]
          },
          "metadata": {
            "tags": []
          },
          "execution_count": 4
        }
      ]
    },
    {
      "cell_type": "markdown",
      "metadata": {
        "id": "u9urSuke4FeR"
      },
      "source": [
        "## **Part 1: Check if the columns have NA values**"
      ]
    },
    {
      "cell_type": "code",
      "metadata": {
        "colab": {
          "base_uri": "https://localhost:8080/"
        },
        "id": "Au8OqKPTUJ9B",
        "outputId": "ba5423fa-788e-4621-b94a-1e257a2fd997"
      },
      "source": [
        "### Check if the columns have NA values #### \n",
        "\n",
        "for column in data:\n",
        "    print(column +' '+ str(data[column].isnull().values.any()) +' '+str(sum(data[column].isnull())/len(data)))\n"
      ],
      "execution_count": null,
      "outputs": [
        {
          "output_type": "stream",
          "text": [
            "id False 0.0\n",
            "gtid False 0.0\n",
            "vendor_id False 0.0\n",
            "subscriber_id False 0.0\n",
            "merchant_id False 0.0\n",
            "signal_type False 0.0\n",
            "entry_date False 0.0\n",
            "exit_date True 0.8725349301397206\n",
            "latitude True 0.00775249500998004\n",
            "longitude True 0.00775249500998004\n",
            "dongle_id False 0.0\n",
            "distance True 0.12746506986027945\n",
            "proximity True 0.12746506986027945\n",
            "rssi True 0.12746506986027945\n"
          ],
          "name": "stdout"
        }
      ]
    },
    {
      "cell_type": "markdown",
      "metadata": {
        "id": "7-flxijgwztQ"
      },
      "source": [
        "### **1.1: Removed some variables**"
      ]
    },
    {
      "cell_type": "code",
      "metadata": {
        "id": "5Y07zV3mUV2R"
      },
      "source": [
        "### Remove unuseful columns\n",
        "\n",
        "data = data.drop(\"id\",axis = 1) # choose variable id or gtid. Both are almost similar.\n",
        "data = data.drop(\"merchant_id\",axis = 1) # unique ID\n",
        "data = data.drop(\"dongle_id\",axis = 1) # unique ID\n",
        "data = data.drop(\"exit_date\",axis = 1) # entry_date = exit_date when signal = 4\n",
        "data = data.drop(\"rssi\",axis = 1) # We agreed to delete this column\n",
        "data = data.drop([\"latitude\",\"longitude\"],axis = 1) "
      ],
      "execution_count": null,
      "outputs": []
    },
    {
      "cell_type": "markdown",
      "metadata": {
        "id": "TvSckFcSxAy1"
      },
      "source": [
        "## **Part 2: Removed all the repeated values. Just 4.6% of rows are repeated**"
      ]
    },
    {
      "cell_type": "code",
      "metadata": {
        "id": "LzXfs-DPZtqL"
      },
      "source": [
        "### 2. Duplicated values using columns from vendor_id \n",
        "# I removed all the repeated values that I found\n",
        "\n",
        "duplicated_values = data.iloc[:,1:len(data.columns)].duplicated() #there are duplicated values\n",
        "sum(duplicated_values)/len(duplicated_values) # 4.6% of the rows are duplicated.\n",
        "data = data[duplicated_values == False] # removed the duplicated rows"
      ],
      "execution_count": null,
      "outputs": []
    },
    {
      "cell_type": "markdown",
      "metadata": {
        "id": "yB6V4PLvxUG7"
      },
      "source": [
        "## **Part 3: The first dataset does not consder the unknown records. So I removed those instances**"
      ]
    },
    {
      "cell_type": "code",
      "metadata": {
        "id": "G50oKHMJZwcI"
      },
      "source": [
        "### 4. The first dataset does not consider the unknown records  \n",
        "\n",
        "data_1 = data[data[\"proximity\"] != \"unknown\"]"
      ],
      "execution_count": null,
      "outputs": []
    },
    {
      "cell_type": "markdown",
      "metadata": {
        "id": "PVCm-sg8xd3z"
      },
      "source": [
        "## **Part 4: In this stage, I created the final dataset considering the transformation of dates.**\n",
        "\n",
        "### **4.1: Modify dates**"
      ]
    },
    {
      "cell_type": "code",
      "metadata": {
        "colab": {
          "base_uri": "https://localhost:8080/",
          "height": 194
        },
        "id": "xy_UgHsuZyp4",
        "outputId": "ddf9009b-2d0c-48c9-b7b2-16167e6a0331"
      },
      "source": [
        "### 4. Create the final dataset\n",
        "\n",
        "# 4.1. Modify dates\n",
        "data_1 = data_1.sort_values(by = [\"subscriber_id\",\"entry_date\"], ascending = True)\n",
        "\n",
        "data_1[\"entry_date\"] = pd.to_datetime(data_1[\"entry_date\"])\n",
        "data_1[\"day_entry_date\"] = [d.date() for d in data_1[\"entry_date\"]]\n",
        "data_1[\"time_entry_date\"] = [d.time() for d in data_1[\"entry_date\"]]\n",
        "\n",
        "def week_of_month(date_value):\n",
        " return (date_value.isocalendar()[1] - date_value.replace(day=1).isocalendar()[1] + 1)\n",
        "\n",
        "data_1[\"month\"] = data_1.entry_date.dt.strftime(\"%B\")\n",
        "data_1[\"week\"] = [week_of_month(d) for d in data_1[\"entry_date\"]]\n",
        "data_1[\"day\"] = [(d.weekday()+1) for d in data_1[\"entry_date\"]] \n",
        "data_1[\"day\"] = ['weekend' if d in ([6,7]) else 'weekday' for d in data_1[\"day\"]]\n",
        "\n",
        "data_1.head()\n"
      ],
      "execution_count": null,
      "outputs": [
        {
          "output_type": "execute_result",
          "data": {
            "text/html": [
              "<div>\n",
              "<style scoped>\n",
              "    .dataframe tbody tr th:only-of-type {\n",
              "        vertical-align: middle;\n",
              "    }\n",
              "\n",
              "    .dataframe tbody tr th {\n",
              "        vertical-align: top;\n",
              "    }\n",
              "\n",
              "    .dataframe thead th {\n",
              "        text-align: right;\n",
              "    }\n",
              "</style>\n",
              "<table border=\"1\" class=\"dataframe\">\n",
              "  <thead>\n",
              "    <tr style=\"text-align: right;\">\n",
              "      <th></th>\n",
              "      <th>gtid</th>\n",
              "      <th>vendor_id</th>\n",
              "      <th>subscriber_id</th>\n",
              "      <th>signal_type</th>\n",
              "      <th>entry_date</th>\n",
              "      <th>distance</th>\n",
              "      <th>proximity</th>\n",
              "      <th>day_entry_date</th>\n",
              "      <th>time_entry_date</th>\n",
              "      <th>month</th>\n",
              "      <th>week</th>\n",
              "      <th>day</th>\n",
              "    </tr>\n",
              "  </thead>\n",
              "  <tbody>\n",
              "    <tr>\n",
              "      <th>80318</th>\n",
              "      <td>63C75856-B672-4175-9CAA-EF1A26A06814</td>\n",
              "      <td>6</td>\n",
              "      <td>26992</td>\n",
              "      <td>2</td>\n",
              "      <td>2017-07-29 15:51:08</td>\n",
              "      <td>1807.501630</td>\n",
              "      <td>far</td>\n",
              "      <td>2017-07-29</td>\n",
              "      <td>15:51:08</td>\n",
              "      <td>July</td>\n",
              "      <td>5</td>\n",
              "      <td>weekend</td>\n",
              "    </tr>\n",
              "    <tr>\n",
              "      <th>80836</th>\n",
              "      <td>91A411BF-6FE5-4E41-ACDC-85D1825D197A</td>\n",
              "      <td>6</td>\n",
              "      <td>26992</td>\n",
              "      <td>2</td>\n",
              "      <td>2017-07-29 15:51:48</td>\n",
              "      <td>2017.969873</td>\n",
              "      <td>far</td>\n",
              "      <td>2017-07-29</td>\n",
              "      <td>15:51:48</td>\n",
              "      <td>July</td>\n",
              "      <td>5</td>\n",
              "      <td>weekend</td>\n",
              "    </tr>\n",
              "    <tr>\n",
              "      <th>83933</th>\n",
              "      <td>E3BE7BF7-2583-48E1-A5B8-9013F77FE63E</td>\n",
              "      <td>6</td>\n",
              "      <td>26992</td>\n",
              "      <td>2</td>\n",
              "      <td>2017-07-29 15:54:46</td>\n",
              "      <td>681.292069</td>\n",
              "      <td>far</td>\n",
              "      <td>2017-07-29</td>\n",
              "      <td>15:54:46</td>\n",
              "      <td>July</td>\n",
              "      <td>5</td>\n",
              "      <td>weekend</td>\n",
              "    </tr>\n",
              "    <tr>\n",
              "      <th>80322</th>\n",
              "      <td>22D56BAA-AEB2-4796-8B2D-AEB44CF83CF8</td>\n",
              "      <td>6</td>\n",
              "      <td>26992</td>\n",
              "      <td>2</td>\n",
              "      <td>2017-07-29 15:58:09</td>\n",
              "      <td>1527.666797</td>\n",
              "      <td>far</td>\n",
              "      <td>2017-07-29</td>\n",
              "      <td>15:58:09</td>\n",
              "      <td>July</td>\n",
              "      <td>5</td>\n",
              "      <td>weekend</td>\n",
              "    </tr>\n",
              "    <tr>\n",
              "      <th>83935</th>\n",
              "      <td>8091EAB2-FEB7-4F31-9A66-359EBB992049</td>\n",
              "      <td>6</td>\n",
              "      <td>26992</td>\n",
              "      <td>2</td>\n",
              "      <td>2017-07-29 16:00:01</td>\n",
              "      <td>1573.744946</td>\n",
              "      <td>far</td>\n",
              "      <td>2017-07-29</td>\n",
              "      <td>16:00:01</td>\n",
              "      <td>July</td>\n",
              "      <td>5</td>\n",
              "      <td>weekend</td>\n",
              "    </tr>\n",
              "  </tbody>\n",
              "</table>\n",
              "</div>"
            ],
            "text/plain": [
              "                                       gtid  vendor_id  ...  week      day\n",
              "80318  63C75856-B672-4175-9CAA-EF1A26A06814          6  ...     5  weekend\n",
              "80836  91A411BF-6FE5-4E41-ACDC-85D1825D197A          6  ...     5  weekend\n",
              "83933  E3BE7BF7-2583-48E1-A5B8-9013F77FE63E          6  ...     5  weekend\n",
              "80322  22D56BAA-AEB2-4796-8B2D-AEB44CF83CF8          6  ...     5  weekend\n",
              "83935  8091EAB2-FEB7-4F31-9A66-359EBB992049          6  ...     5  weekend\n",
              "\n",
              "[5 rows x 12 columns]"
            ]
          },
          "metadata": {
            "tags": []
          },
          "execution_count": 9
        }
      ]
    },
    {
      "cell_type": "markdown",
      "metadata": {
        "id": "O_WD5zChxwq-"
      },
      "source": [
        "### **4.2: In this stage I calculated the average time per customer. First, I calculated the time of each client per day. Then I estimated the average of all of them based on the dates**"
      ]
    },
    {
      "cell_type": "code",
      "metadata": {
        "colab": {
          "base_uri": "https://localhost:8080/",
          "height": 194
        },
        "id": "qfkSwKPsaABp",
        "outputId": "0fbfd8ee-d3db-4d70-ec24-641ed2900dec"
      },
      "source": [
        "# 4.2 Average time per customer \n",
        "\n",
        "time_x = data_1.loc[:,[\"vendor_id\",\"subscriber_id\",\"day_entry_date\",\"entry_date\",\"month\",\"week\",\"day\"]] #select useful columns to calculate this metric\n",
        "\n",
        "time_x = time_x.groupby([\"vendor_id\",\"subscriber_id\",\"day_entry_date\",\"month\",\"week\",\"day\"], as_index=False).entry_date.agg(['min','max']).reset_index() #check min and max time\n",
        "\n",
        "time_x = time_x.rename(columns = {'min':'min_time','max':'max_time'})\n",
        "time_x[\"dif_time_minutes\"] = (time_x.max_time - time_x.min_time).dt.seconds/60 #calculate the difference in minutes\n",
        "\n",
        "time_x = time_x.drop([\"subscriber_id\",\"day_entry_date\",\"min_time\",\"max_time\"], axis = 1) # remove columns\n",
        "\n",
        "time_x=time_x.groupby([\"vendor_id\",\"month\",\"week\",\"day\"]).agg({\"dif_time_minutes\":\"mean\"}).rename(columns = {\"dif_time_minutes\":\"mean_time_minutes\"}).reset_index() #calcualte the mean\n",
        "\n",
        "time_x.head()"
      ],
      "execution_count": null,
      "outputs": [
        {
          "output_type": "execute_result",
          "data": {
            "text/html": [
              "<div>\n",
              "<style scoped>\n",
              "    .dataframe tbody tr th:only-of-type {\n",
              "        vertical-align: middle;\n",
              "    }\n",
              "\n",
              "    .dataframe tbody tr th {\n",
              "        vertical-align: top;\n",
              "    }\n",
              "\n",
              "    .dataframe thead th {\n",
              "        text-align: right;\n",
              "    }\n",
              "</style>\n",
              "<table border=\"1\" class=\"dataframe\">\n",
              "  <thead>\n",
              "    <tr style=\"text-align: right;\">\n",
              "      <th></th>\n",
              "      <th>vendor_id</th>\n",
              "      <th>month</th>\n",
              "      <th>week</th>\n",
              "      <th>day</th>\n",
              "      <th>mean_time_minutes</th>\n",
              "    </tr>\n",
              "  </thead>\n",
              "  <tbody>\n",
              "    <tr>\n",
              "      <th>0</th>\n",
              "      <td>6</td>\n",
              "      <td>August</td>\n",
              "      <td>1</td>\n",
              "      <td>weekday</td>\n",
              "      <td>110.788889</td>\n",
              "    </tr>\n",
              "    <tr>\n",
              "      <th>1</th>\n",
              "      <td>6</td>\n",
              "      <td>August</td>\n",
              "      <td>1</td>\n",
              "      <td>weekend</td>\n",
              "      <td>15.227778</td>\n",
              "    </tr>\n",
              "    <tr>\n",
              "      <th>2</th>\n",
              "      <td>6</td>\n",
              "      <td>August</td>\n",
              "      <td>2</td>\n",
              "      <td>weekday</td>\n",
              "      <td>63.157143</td>\n",
              "    </tr>\n",
              "    <tr>\n",
              "      <th>3</th>\n",
              "      <td>6</td>\n",
              "      <td>August</td>\n",
              "      <td>2</td>\n",
              "      <td>weekend</td>\n",
              "      <td>16.183333</td>\n",
              "    </tr>\n",
              "    <tr>\n",
              "      <th>4</th>\n",
              "      <td>6</td>\n",
              "      <td>August</td>\n",
              "      <td>3</td>\n",
              "      <td>weekday</td>\n",
              "      <td>18.520270</td>\n",
              "    </tr>\n",
              "  </tbody>\n",
              "</table>\n",
              "</div>"
            ],
            "text/plain": [
              "   vendor_id   month  week      day  mean_time_minutes\n",
              "0          6  August     1  weekday         110.788889\n",
              "1          6  August     1  weekend          15.227778\n",
              "2          6  August     2  weekday          63.157143\n",
              "3          6  August     2  weekend          16.183333\n",
              "4          6  August     3  weekday          18.520270"
            ]
          },
          "metadata": {
            "tags": []
          },
          "execution_count": 10
        }
      ]
    },
    {
      "cell_type": "markdown",
      "metadata": {
        "id": "2a5epUqezTn5"
      },
      "source": [
        "### **4.3: I created the target variable of the model considering those immediate and near proximities. Each customer is unique per day. However, if a customer has purchases every day of the same week, they must be added.**"
      ]
    },
    {
      "cell_type": "code",
      "metadata": {
        "id": "uF3b9YTOaFzl",
        "colab": {
          "base_uri": "https://localhost:8080/",
          "height": 229
        },
        "outputId": "eb09d122-da4d-4a4d-f6dc-157fe4534502"
      },
      "source": [
        "# 4.3 Create the target dataframe\n",
        "# Target_Y (considering \"near\" and \"immediate\")\n",
        "\n",
        "target_y = data_1[data[\"proximity\"].isin([\"immediate\",\"near\"])].loc[:,[\"vendor_id\",\"subscriber_id\",\"day_entry_date\",\"entry_date\",\"month\",\"week\",\"day\"]]\n",
        "target_y = target_y.drop(\"entry_date\", axis = 1)\n",
        "\n",
        "target_y=target_y.groupby([\"vendor_id\",\"month\",\"week\",\"day\",\"day_entry_date\"]).agg({\"subscriber_id\":pd.Series.nunique}).rename(columns = {\"subscriber_id\":\"subscriber_unique\"}).reset_index() #Unique per day\n",
        "\n",
        "target_y = target_y.drop(\"day_entry_date\", axis = 1) #Remove the day_entry_date\n",
        "\n",
        "target_y=target_y.groupby([\"vendor_id\",\"month\",\"week\",\"day\",]).agg({\"subscriber_unique\":\"sum\"}).reset_index() #Then sum() the subscriber_unique. A customer could have transactions every day within the same week.\n",
        "\n",
        "target_y.head()"
      ],
      "execution_count": null,
      "outputs": [
        {
          "output_type": "stream",
          "text": [
            "/usr/local/lib/python3.6/dist-packages/ipykernel_launcher.py:4: UserWarning: Boolean Series key will be reindexed to match DataFrame index.\n",
            "  after removing the cwd from sys.path.\n"
          ],
          "name": "stderr"
        },
        {
          "output_type": "execute_result",
          "data": {
            "text/html": [
              "<div>\n",
              "<style scoped>\n",
              "    .dataframe tbody tr th:only-of-type {\n",
              "        vertical-align: middle;\n",
              "    }\n",
              "\n",
              "    .dataframe tbody tr th {\n",
              "        vertical-align: top;\n",
              "    }\n",
              "\n",
              "    .dataframe thead th {\n",
              "        text-align: right;\n",
              "    }\n",
              "</style>\n",
              "<table border=\"1\" class=\"dataframe\">\n",
              "  <thead>\n",
              "    <tr style=\"text-align: right;\">\n",
              "      <th></th>\n",
              "      <th>vendor_id</th>\n",
              "      <th>month</th>\n",
              "      <th>week</th>\n",
              "      <th>day</th>\n",
              "      <th>subscriber_unique</th>\n",
              "    </tr>\n",
              "  </thead>\n",
              "  <tbody>\n",
              "    <tr>\n",
              "      <th>0</th>\n",
              "      <td>6</td>\n",
              "      <td>August</td>\n",
              "      <td>1</td>\n",
              "      <td>weekend</td>\n",
              "      <td>1</td>\n",
              "    </tr>\n",
              "    <tr>\n",
              "      <th>1</th>\n",
              "      <td>6</td>\n",
              "      <td>August</td>\n",
              "      <td>3</td>\n",
              "      <td>weekday</td>\n",
              "      <td>3</td>\n",
              "    </tr>\n",
              "    <tr>\n",
              "      <th>2</th>\n",
              "      <td>6</td>\n",
              "      <td>August</td>\n",
              "      <td>3</td>\n",
              "      <td>weekend</td>\n",
              "      <td>1</td>\n",
              "    </tr>\n",
              "    <tr>\n",
              "      <th>3</th>\n",
              "      <td>6</td>\n",
              "      <td>August</td>\n",
              "      <td>4</td>\n",
              "      <td>weekday</td>\n",
              "      <td>2</td>\n",
              "    </tr>\n",
              "    <tr>\n",
              "      <th>4</th>\n",
              "      <td>6</td>\n",
              "      <td>July</td>\n",
              "      <td>1</td>\n",
              "      <td>weekend</td>\n",
              "      <td>1</td>\n",
              "    </tr>\n",
              "  </tbody>\n",
              "</table>\n",
              "</div>"
            ],
            "text/plain": [
              "   vendor_id   month  week      day  subscriber_unique\n",
              "0          6  August     1  weekend                  1\n",
              "1          6  August     3  weekday                  3\n",
              "2          6  August     3  weekend                  1\n",
              "3          6  August     4  weekday                  2\n",
              "4          6    July     1  weekend                  1"
            ]
          },
          "metadata": {
            "tags": []
          },
          "execution_count": 11
        }
      ]
    },
    {
      "cell_type": "markdown",
      "metadata": {
        "id": "vul5EePXz65C"
      },
      "source": [
        "### **4.4: Final table of independent variables. Add the total number of customers, count the number of movements and estimate the average distance.**\n",
        "\n",
        "\n"
      ]
    },
    {
      "cell_type": "code",
      "metadata": {
        "id": "yg2kzGa0aXmD",
        "colab": {
          "base_uri": "https://localhost:8080/",
          "height": 194
        },
        "outputId": "c48798bb-8293-444b-dbf5-0a6afa24b2a7"
      },
      "source": [
        "# 4.4 Create a dataframe for the independat variables\n",
        "\n",
        "variables_x = data_1.drop([\"signal_type\",\"time_entry_date\",\"proximity\",\"entry_date\"], axis =1)\n",
        "\n",
        "average_distance = variables_x.groupby([\"vendor_id\",\"month\",\"week\",\"day\",\"day_entry_date\",\"subscriber_id\"]).agg({\"distance\":\"mean\"}).rename(columns={\"distance\":\"distance_mean\"}).reset_index()\n",
        "\n",
        "\n",
        "final_x = pd.merge(variables_x,average_distance, how = \"left\", on =[\"vendor_id\",\"month\",\"week\",\"day\",\"day_entry_date\",\"subscriber_id\"])\n",
        "\n",
        "final_x = final_x.drop(\"distance\", axis = 1)\n",
        "\n",
        "final_x = final_x.groupby([\"vendor_id\",\"day_entry_date\",\"month\",\"week\",\"day\"]).agg({\"gtid\":\"size\",\"subscriber_id\":pd.Series.nunique,\"distance_mean\":\"mean\"}).rename(columns={\"gtid\":\"gtid_count\",\"subscriber_id\":\"subscriber_id_count\",\"distance\":\"distance_mean\"}).reset_index()\n",
        "\n",
        "final_x = final_x.groupby([\"vendor_id\",\"month\",\"week\",\"day\"]).agg({\"gtid_count\":\"sum\",\"subscriber_id_count\":\"sum\",\"distance_mean\":\"mean\"}).reset_index()\n",
        "\n",
        "final_x.head()\n"
      ],
      "execution_count": null,
      "outputs": [
        {
          "output_type": "execute_result",
          "data": {
            "text/html": [
              "<div>\n",
              "<style scoped>\n",
              "    .dataframe tbody tr th:only-of-type {\n",
              "        vertical-align: middle;\n",
              "    }\n",
              "\n",
              "    .dataframe tbody tr th {\n",
              "        vertical-align: top;\n",
              "    }\n",
              "\n",
              "    .dataframe thead th {\n",
              "        text-align: right;\n",
              "    }\n",
              "</style>\n",
              "<table border=\"1\" class=\"dataframe\">\n",
              "  <thead>\n",
              "    <tr style=\"text-align: right;\">\n",
              "      <th></th>\n",
              "      <th>vendor_id</th>\n",
              "      <th>month</th>\n",
              "      <th>week</th>\n",
              "      <th>day</th>\n",
              "      <th>gtid_count</th>\n",
              "      <th>subscriber_id_count</th>\n",
              "      <th>distance_mean</th>\n",
              "    </tr>\n",
              "  </thead>\n",
              "  <tbody>\n",
              "    <tr>\n",
              "      <th>0</th>\n",
              "      <td>6</td>\n",
              "      <td>August</td>\n",
              "      <td>1</td>\n",
              "      <td>weekday</td>\n",
              "      <td>54</td>\n",
              "      <td>9</td>\n",
              "      <td>2015.724022</td>\n",
              "    </tr>\n",
              "    <tr>\n",
              "      <th>1</th>\n",
              "      <td>6</td>\n",
              "      <td>August</td>\n",
              "      <td>1</td>\n",
              "      <td>weekend</td>\n",
              "      <td>65</td>\n",
              "      <td>9</td>\n",
              "      <td>1788.838296</td>\n",
              "    </tr>\n",
              "    <tr>\n",
              "      <th>2</th>\n",
              "      <td>6</td>\n",
              "      <td>August</td>\n",
              "      <td>2</td>\n",
              "      <td>weekday</td>\n",
              "      <td>96</td>\n",
              "      <td>21</td>\n",
              "      <td>1897.729332</td>\n",
              "    </tr>\n",
              "    <tr>\n",
              "      <th>3</th>\n",
              "      <td>6</td>\n",
              "      <td>August</td>\n",
              "      <td>2</td>\n",
              "      <td>weekend</td>\n",
              "      <td>45</td>\n",
              "      <td>14</td>\n",
              "      <td>2019.559203</td>\n",
              "    </tr>\n",
              "    <tr>\n",
              "      <th>4</th>\n",
              "      <td>6</td>\n",
              "      <td>August</td>\n",
              "      <td>3</td>\n",
              "      <td>weekday</td>\n",
              "      <td>362</td>\n",
              "      <td>37</td>\n",
              "      <td>1692.305559</td>\n",
              "    </tr>\n",
              "  </tbody>\n",
              "</table>\n",
              "</div>"
            ],
            "text/plain": [
              "   vendor_id   month  week  ... gtid_count  subscriber_id_count  distance_mean\n",
              "0          6  August     1  ...         54                    9    2015.724022\n",
              "1          6  August     1  ...         65                    9    1788.838296\n",
              "2          6  August     2  ...         96                   21    1897.729332\n",
              "3          6  August     2  ...         45                   14    2019.559203\n",
              "4          6  August     3  ...        362                   37    1692.305559\n",
              "\n",
              "[5 rows x 7 columns]"
            ]
          },
          "metadata": {
            "tags": []
          },
          "execution_count": 12
        }
      ]
    },
    {
      "cell_type": "markdown",
      "metadata": {
        "id": "x8tT64GV0qeL"
      },
      "source": [
        "### **4.5: Within this step I created the final dataframe considering all the previously calculated variables. Also, I calculated a new variable and replaced the NA values by zero.**"
      ]
    },
    {
      "cell_type": "code",
      "metadata": {
        "colab": {
          "base_uri": "https://localhost:8080/",
          "height": 194
        },
        "id": "GxxYzYfDacvJ",
        "outputId": "96eb3957-067b-40c0-ace6-442ea73a1cff"
      },
      "source": [
        "# 5.5 Left Join betwen tables variables_x, time_x and target_y \n",
        "\n",
        "# Merge variable_x and time_x \n",
        "\n",
        "final_df = pd.merge(final_x,time_x, how = \"left\", on =[\"vendor_id\",\"month\",\"week\",\"day\"])\n",
        "\n",
        "# add the table target_y\n",
        "\n",
        "final_df= pd.merge(final_df,target_y, how = \"left\", on =[\"vendor_id\",\"month\",\"week\",\"day\"])\n",
        "final_df.insert(6,\"frequency\",final_df.gtid_count/final_df.subscriber_id_count)\n",
        "\n",
        "\n",
        "# replace na by 0 \n",
        "final_df = final_df.fillna(0)\n",
        "\n",
        "# change vendor_id and week to a string. This is because vendor_id and week must be treated as categorical variables.\n",
        "final_df[\"vendor_id\"] = final_df[\"vendor_id\"].apply(str)\n",
        "final_df[\"week\"] = final_df[\"week\"].apply(str)\n",
        "\n",
        "final_df.head() #The column subscriber_unique is the target"
      ],
      "execution_count": null,
      "outputs": [
        {
          "output_type": "execute_result",
          "data": {
            "text/html": [
              "<div>\n",
              "<style scoped>\n",
              "    .dataframe tbody tr th:only-of-type {\n",
              "        vertical-align: middle;\n",
              "    }\n",
              "\n",
              "    .dataframe tbody tr th {\n",
              "        vertical-align: top;\n",
              "    }\n",
              "\n",
              "    .dataframe thead th {\n",
              "        text-align: right;\n",
              "    }\n",
              "</style>\n",
              "<table border=\"1\" class=\"dataframe\">\n",
              "  <thead>\n",
              "    <tr style=\"text-align: right;\">\n",
              "      <th></th>\n",
              "      <th>vendor_id</th>\n",
              "      <th>month</th>\n",
              "      <th>week</th>\n",
              "      <th>day</th>\n",
              "      <th>gtid_count</th>\n",
              "      <th>subscriber_id_count</th>\n",
              "      <th>frequency</th>\n",
              "      <th>distance_mean</th>\n",
              "      <th>mean_time_minutes</th>\n",
              "      <th>subscriber_unique</th>\n",
              "    </tr>\n",
              "  </thead>\n",
              "  <tbody>\n",
              "    <tr>\n",
              "      <th>0</th>\n",
              "      <td>6</td>\n",
              "      <td>August</td>\n",
              "      <td>1</td>\n",
              "      <td>weekday</td>\n",
              "      <td>54</td>\n",
              "      <td>9</td>\n",
              "      <td>6.000000</td>\n",
              "      <td>2015.724022</td>\n",
              "      <td>110.788889</td>\n",
              "      <td>0.0</td>\n",
              "    </tr>\n",
              "    <tr>\n",
              "      <th>1</th>\n",
              "      <td>6</td>\n",
              "      <td>August</td>\n",
              "      <td>1</td>\n",
              "      <td>weekend</td>\n",
              "      <td>65</td>\n",
              "      <td>9</td>\n",
              "      <td>7.222222</td>\n",
              "      <td>1788.838296</td>\n",
              "      <td>15.227778</td>\n",
              "      <td>1.0</td>\n",
              "    </tr>\n",
              "    <tr>\n",
              "      <th>2</th>\n",
              "      <td>6</td>\n",
              "      <td>August</td>\n",
              "      <td>2</td>\n",
              "      <td>weekday</td>\n",
              "      <td>96</td>\n",
              "      <td>21</td>\n",
              "      <td>4.571429</td>\n",
              "      <td>1897.729332</td>\n",
              "      <td>63.157143</td>\n",
              "      <td>0.0</td>\n",
              "    </tr>\n",
              "    <tr>\n",
              "      <th>3</th>\n",
              "      <td>6</td>\n",
              "      <td>August</td>\n",
              "      <td>2</td>\n",
              "      <td>weekend</td>\n",
              "      <td>45</td>\n",
              "      <td>14</td>\n",
              "      <td>3.214286</td>\n",
              "      <td>2019.559203</td>\n",
              "      <td>16.183333</td>\n",
              "      <td>0.0</td>\n",
              "    </tr>\n",
              "    <tr>\n",
              "      <th>4</th>\n",
              "      <td>6</td>\n",
              "      <td>August</td>\n",
              "      <td>3</td>\n",
              "      <td>weekday</td>\n",
              "      <td>362</td>\n",
              "      <td>37</td>\n",
              "      <td>9.783784</td>\n",
              "      <td>1692.305559</td>\n",
              "      <td>18.520270</td>\n",
              "      <td>3.0</td>\n",
              "    </tr>\n",
              "  </tbody>\n",
              "</table>\n",
              "</div>"
            ],
            "text/plain": [
              "  vendor_id   month week  ... distance_mean  mean_time_minutes  subscriber_unique\n",
              "0         6  August    1  ...   2015.724022         110.788889                0.0\n",
              "1         6  August    1  ...   1788.838296          15.227778                1.0\n",
              "2         6  August    2  ...   1897.729332          63.157143                0.0\n",
              "3         6  August    2  ...   2019.559203          16.183333                0.0\n",
              "4         6  August    3  ...   1692.305559          18.520270                3.0\n",
              "\n",
              "[5 rows x 10 columns]"
            ]
          },
          "metadata": {
            "tags": []
          },
          "execution_count": 13
        }
      ]
    },
    {
      "cell_type": "markdown",
      "metadata": {
        "id": "QNbTwH7O04gb"
      },
      "source": [
        "## **Part 5: Encoding process for the categorical variables using Target Mean Encoding**"
      ]
    },
    {
      "cell_type": "code",
      "metadata": {
        "id": "HVkr8uPTaf2c",
        "colab": {
          "base_uri": "https://localhost:8080/",
          "height": 194
        },
        "outputId": "5054d430-8e71-444e-b87b-8bf04f862914"
      },
      "source": [
        "### 5. Encoding of categorical variables (Vendor_id, month,week and day)\n",
        "\n",
        "# 5.1 Target Mean encoding Regression \n",
        "# By @Brendan Hasz\n",
        "\n",
        "from sklearn.base import BaseEstimator, TransformerMixin\n",
        "\n",
        "class TargetEncoder(BaseEstimator,TransformerMixin):\n",
        "    def __init__(self, cols=None):\n",
        "        if isinstance(cols, str):\n",
        "            self.cols = [cols]\n",
        "        else:\n",
        "            self.cols = cols\n",
        "            \n",
        "    def fit(self, X, y):\n",
        "        # Encode all categorical cols by default\n",
        "        if self.cols is None:\n",
        "            self.cols = [col for col in X \n",
        "                         if str(X[col].dtype)=='object']\n",
        "\n",
        "        # Check columns are in X\n",
        "        for col in self.cols:\n",
        "            if col not in X:\n",
        "                raise ValueError('Column \\''+col+'\\' not in X')\n",
        "\n",
        "        # Encode each element of each column\n",
        "        self.maps = dict() #dict to store map for each column\n",
        "        for col in self.cols:\n",
        "            tmap = dict()\n",
        "            uniques = X[col].unique()\n",
        "            for unique in uniques:\n",
        "                tmap[unique] = y[X[col]==unique].mean()\n",
        "            self.maps[col] = tmap\n",
        "            \n",
        "        return self\n",
        "\n",
        "    def transform(self, X, y=None):\n",
        "\n",
        "        Xo = X.copy()\n",
        "        for col, tmap in self.maps.items():\n",
        "            vals = np.full(X.shape[0], np.nan)\n",
        "            for val, mean_target in tmap.items():\n",
        "                vals[X[col]==val] = mean_target\n",
        "            Xo[col] = vals\n",
        "        return Xo\n",
        "            \n",
        "            \n",
        "    def fit_transform(self, X, y=None):\n",
        "        return self.fit(X, y).transform(X, y)\n",
        "\n",
        "\n",
        "X_train_tm = final_df.loc[:,:\"mean_time_minutes\"]\n",
        "y_train_tm = final_df.loc[:,\"subscriber_unique\"]\n",
        "te = TargetEncoder()\n",
        "X_train_tm = te.fit_transform(X_train_tm,y_train_tm)\n",
        "\n",
        "X_train_tm.head() # Just the independant variables\n"
      ],
      "execution_count": null,
      "outputs": [
        {
          "output_type": "execute_result",
          "data": {
            "text/html": [
              "<div>\n",
              "<style scoped>\n",
              "    .dataframe tbody tr th:only-of-type {\n",
              "        vertical-align: middle;\n",
              "    }\n",
              "\n",
              "    .dataframe tbody tr th {\n",
              "        vertical-align: top;\n",
              "    }\n",
              "\n",
              "    .dataframe thead th {\n",
              "        text-align: right;\n",
              "    }\n",
              "</style>\n",
              "<table border=\"1\" class=\"dataframe\">\n",
              "  <thead>\n",
              "    <tr style=\"text-align: right;\">\n",
              "      <th></th>\n",
              "      <th>vendor_id</th>\n",
              "      <th>month</th>\n",
              "      <th>week</th>\n",
              "      <th>day</th>\n",
              "      <th>gtid_count</th>\n",
              "      <th>subscriber_id_count</th>\n",
              "      <th>frequency</th>\n",
              "      <th>distance_mean</th>\n",
              "      <th>mean_time_minutes</th>\n",
              "    </tr>\n",
              "  </thead>\n",
              "  <tbody>\n",
              "    <tr>\n",
              "      <th>0</th>\n",
              "      <td>1.045455</td>\n",
              "      <td>0.953125</td>\n",
              "      <td>0.881720</td>\n",
              "      <td>1.487941</td>\n",
              "      <td>54</td>\n",
              "      <td>9</td>\n",
              "      <td>6.000000</td>\n",
              "      <td>2015.724022</td>\n",
              "      <td>110.788889</td>\n",
              "    </tr>\n",
              "    <tr>\n",
              "      <th>1</th>\n",
              "      <td>1.045455</td>\n",
              "      <td>0.953125</td>\n",
              "      <td>0.881720</td>\n",
              "      <td>0.693976</td>\n",
              "      <td>65</td>\n",
              "      <td>9</td>\n",
              "      <td>7.222222</td>\n",
              "      <td>1788.838296</td>\n",
              "      <td>15.227778</td>\n",
              "    </tr>\n",
              "    <tr>\n",
              "      <th>2</th>\n",
              "      <td>1.045455</td>\n",
              "      <td>0.953125</td>\n",
              "      <td>1.264574</td>\n",
              "      <td>1.487941</td>\n",
              "      <td>96</td>\n",
              "      <td>21</td>\n",
              "      <td>4.571429</td>\n",
              "      <td>1897.729332</td>\n",
              "      <td>63.157143</td>\n",
              "    </tr>\n",
              "    <tr>\n",
              "      <th>3</th>\n",
              "      <td>1.045455</td>\n",
              "      <td>0.953125</td>\n",
              "      <td>1.264574</td>\n",
              "      <td>0.693976</td>\n",
              "      <td>45</td>\n",
              "      <td>14</td>\n",
              "      <td>3.214286</td>\n",
              "      <td>2019.559203</td>\n",
              "      <td>16.183333</td>\n",
              "    </tr>\n",
              "    <tr>\n",
              "      <th>4</th>\n",
              "      <td>1.045455</td>\n",
              "      <td>0.953125</td>\n",
              "      <td>1.191111</td>\n",
              "      <td>1.487941</td>\n",
              "      <td>362</td>\n",
              "      <td>37</td>\n",
              "      <td>9.783784</td>\n",
              "      <td>1692.305559</td>\n",
              "      <td>18.520270</td>\n",
              "    </tr>\n",
              "  </tbody>\n",
              "</table>\n",
              "</div>"
            ],
            "text/plain": [
              "   vendor_id     month      week  ...  frequency  distance_mean  mean_time_minutes\n",
              "0   1.045455  0.953125  0.881720  ...   6.000000    2015.724022         110.788889\n",
              "1   1.045455  0.953125  0.881720  ...   7.222222    1788.838296          15.227778\n",
              "2   1.045455  0.953125  1.264574  ...   4.571429    1897.729332          63.157143\n",
              "3   1.045455  0.953125  1.264574  ...   3.214286    2019.559203          16.183333\n",
              "4   1.045455  0.953125  1.191111  ...   9.783784    1692.305559          18.520270\n",
              "\n",
              "[5 rows x 9 columns]"
            ]
          },
          "metadata": {
            "tags": []
          },
          "execution_count": 14
        }
      ]
    },
    {
      "cell_type": "markdown",
      "metadata": {
        "id": "zAyN65QH1HRH"
      },
      "source": [
        "## **Part 7:  Standardized the data to avoid biases due to the scale of the variables**"
      ]
    },
    {
      "cell_type": "code",
      "metadata": {
        "id": "Mx74Nnlgaj6I",
        "colab": {
          "base_uri": "https://localhost:8080/",
          "height": 194
        },
        "outputId": "183d62a2-744f-4277-ba40-0d2d3a665c63"
      },
      "source": [
        "### 7. Standarized variables \n",
        "\n",
        "from sklearn import preprocessing\n",
        "\n",
        "names = X_train_tm.iloc[:,].columns # Get column names first\n",
        "scaler = preprocessing.StandardScaler() # Create the ccaler object\n",
        "X_train_tm = scaler.fit_transform(X_train_tm) # Fit your data on the scaler object\n",
        "X_train_tm = pd.DataFrame(X_train_tm, columns=names)\n",
        "\n",
        "X_train_tm.head() # To avoid bias in the results due to the scale of the variables.\n",
        "\n"
      ],
      "execution_count": null,
      "outputs": [
        {
          "output_type": "execute_result",
          "data": {
            "text/html": [
              "<div>\n",
              "<style scoped>\n",
              "    .dataframe tbody tr th:only-of-type {\n",
              "        vertical-align: middle;\n",
              "    }\n",
              "\n",
              "    .dataframe tbody tr th {\n",
              "        vertical-align: top;\n",
              "    }\n",
              "\n",
              "    .dataframe thead th {\n",
              "        text-align: right;\n",
              "    }\n",
              "</style>\n",
              "<table border=\"1\" class=\"dataframe\">\n",
              "  <thead>\n",
              "    <tr style=\"text-align: right;\">\n",
              "      <th></th>\n",
              "      <th>vendor_id</th>\n",
              "      <th>month</th>\n",
              "      <th>week</th>\n",
              "      <th>day</th>\n",
              "      <th>gtid_count</th>\n",
              "      <th>subscriber_id_count</th>\n",
              "      <th>frequency</th>\n",
              "      <th>distance_mean</th>\n",
              "      <th>mean_time_minutes</th>\n",
              "    </tr>\n",
              "  </thead>\n",
              "  <tbody>\n",
              "    <tr>\n",
              "      <th>0</th>\n",
              "      <td>-0.055967</td>\n",
              "      <td>-0.969688</td>\n",
              "      <td>-1.374807</td>\n",
              "      <td>0.877465</td>\n",
              "      <td>-0.209877</td>\n",
              "      <td>-0.150049</td>\n",
              "      <td>-0.244312</td>\n",
              "      <td>0.368001</td>\n",
              "      <td>1.568787</td>\n",
              "    </tr>\n",
              "    <tr>\n",
              "      <th>1</th>\n",
              "      <td>-0.055967</td>\n",
              "      <td>-0.969688</td>\n",
              "      <td>-1.374807</td>\n",
              "      <td>-1.139647</td>\n",
              "      <td>-0.164620</td>\n",
              "      <td>-0.150049</td>\n",
              "      <td>-0.032730</td>\n",
              "      <td>0.027881</td>\n",
              "      <td>-0.451397</td>\n",
              "    </tr>\n",
              "    <tr>\n",
              "      <th>2</th>\n",
              "      <td>-0.055967</td>\n",
              "      <td>-0.969688</td>\n",
              "      <td>0.643117</td>\n",
              "      <td>0.877465</td>\n",
              "      <td>-0.037076</td>\n",
              "      <td>0.284277</td>\n",
              "      <td>-0.491615</td>\n",
              "      <td>0.191117</td>\n",
              "      <td>0.561841</td>\n",
              "    </tr>\n",
              "    <tr>\n",
              "      <th>3</th>\n",
              "      <td>-0.055967</td>\n",
              "      <td>-0.969688</td>\n",
              "      <td>0.643117</td>\n",
              "      <td>-1.139647</td>\n",
              "      <td>-0.246906</td>\n",
              "      <td>0.030920</td>\n",
              "      <td>-0.726553</td>\n",
              "      <td>0.373750</td>\n",
              "      <td>-0.431196</td>\n",
              "    </tr>\n",
              "    <tr>\n",
              "      <th>4</th>\n",
              "      <td>-0.055967</td>\n",
              "      <td>-0.969688</td>\n",
              "      <td>0.255913</td>\n",
              "      <td>0.877465</td>\n",
              "      <td>1.057330</td>\n",
              "      <td>0.863379</td>\n",
              "      <td>0.410707</td>\n",
              "      <td>-0.116829</td>\n",
              "      <td>-0.381793</td>\n",
              "    </tr>\n",
              "  </tbody>\n",
              "</table>\n",
              "</div>"
            ],
            "text/plain": [
              "   vendor_id     month      week  ...  frequency  distance_mean  mean_time_minutes\n",
              "0  -0.055967 -0.969688 -1.374807  ...  -0.244312       0.368001           1.568787\n",
              "1  -0.055967 -0.969688 -1.374807  ...  -0.032730       0.027881          -0.451397\n",
              "2  -0.055967 -0.969688  0.643117  ...  -0.491615       0.191117           0.561841\n",
              "3  -0.055967 -0.969688  0.643117  ...  -0.726553       0.373750          -0.431196\n",
              "4  -0.055967 -0.969688  0.255913  ...   0.410707      -0.116829          -0.381793\n",
              "\n",
              "[5 rows x 9 columns]"
            ]
          },
          "metadata": {
            "tags": []
          },
          "execution_count": 15
        }
      ]
    },
    {
      "cell_type": "markdown",
      "metadata": {
        "id": "a3KU-pEk1rp6"
      },
      "source": [
        "## **Part 8: The SVM model. The nice thing about SVM is that it can be used to solve regression and classification problems.**"
      ]
    },
    {
      "cell_type": "code",
      "metadata": {
        "colab": {
          "base_uri": "https://localhost:8080/"
        },
        "id": "NXwahiOfamYy",
        "outputId": "35e50579-6695-4d95-e65f-8d7e011f6a7c"
      },
      "source": [
        "### 8. SVM Model First Results\n",
        "\n",
        "from sklearn.model_selection import train_test_split\n",
        "from sklearn import metrics\n",
        "from sklearn import svm\n",
        "\n",
        "y_train = (y_train_tm>4).astype(float) #Target and threshold\n",
        "\n",
        "X_train, X_test, y_train, y_test = train_test_split(X_train_tm, y_train, test_size=0.3, random_state=1, stratify = y_train)\n",
        "\n",
        "#create SVM model and train it\n",
        "clf = svm.SVC(kernel = 'rbf', C = 1.0) # I haven't optimized the soft margin (C parameter)\n",
        "\n",
        "clf.fit(X_train, y_train)\n",
        "\n",
        "clf.score(X_test, y_test)\n",
        "\n",
        "preds = clf.predict(X_test)\n",
        "targs = y_test \n",
        "print(\"SVM MODEL:\")\n",
        "print(\"accuracy: \", metrics.accuracy_score(targs, preds))\n",
        "print(\"precision: \", metrics.precision_score(targs, preds)) \n",
        "print(\"recall: \", metrics.recall_score(targs, preds))\n",
        "print(\"f1: \", metrics.f1_score(targs, preds))\n",
        "print(\"ROC AUC: \", metrics.roc_auc_score(targs, preds))"
      ],
      "execution_count": null,
      "outputs": [
        {
          "output_type": "stream",
          "text": [
            "SVM MODEL:\n",
            "accuracy:  0.975609756097561\n",
            "precision:  0.9230769230769231\n",
            "recall:  0.6666666666666666\n",
            "f1:  0.7741935483870968\n",
            "ROC AUC:  0.8314745972738538\n"
          ],
          "name": "stdout"
        }
      ]
    },
    {
      "cell_type": "markdown",
      "metadata": {
        "id": "1KSwYcZg2Fkv"
      },
      "source": [
        "### **8.1:  Here I show why the threshold is not useful. As the threshold increases, the model is not able to identify the records that are above that threshold since there are no records. In this step, oversampling techniques would not work either since there would be no data to carry out this step.**"
      ]
    },
    {
      "cell_type": "code",
      "metadata": {
        "id": "3UuHS_1ocB-u",
        "colab": {
          "base_uri": "https://localhost:8080/",
          "height": 457
        },
        "outputId": "c9f14ea1-aecb-44da-e470-bba1a62b25fe"
      },
      "source": [
        "# 8.1 Proof that the threshold is not useful.\n",
        "\n",
        "def thresholdsvm(value):\n",
        "    thresholdsvm = list(range(0,value))\n",
        "    results = pd.DataFrame(columns=['threshol','accuracy','precision','recall','f1','ROC AUC'])\n",
        "    for i in thresholdsvm:\n",
        "        try:\n",
        "            y_train = (y_train_tm>i).astype(float)\n",
        "            X_train, X_test, y_train, y_test = train_test_split(X_train_tm, y_train,test_size=0.3, random_state=1, stratify = y_train)\n",
        "            clf = svm.SVC(kernel = 'rbf', C = 1.0)\n",
        "            clf.fit(X_train, y_train)\n",
        "            clf.score(X_test, y_test)\n",
        "            preds = clf.predict(X_test)\n",
        "            targs = y_test \n",
        "            results.loc[i,\"threshol\"] = i\n",
        "            results.loc[i,\"accuracy\"] = metrics.accuracy_score(targs, preds)\n",
        "            results.loc[i,\"precision\"] = metrics.precision_score(targs, preds)\n",
        "            results.loc[i,\"recall\"] = metrics.recall_score(targs, preds)\n",
        "            results.loc[i,\"f1\"] = metrics.f1_score(targs, preds)\n",
        "            results.loc[i,\"ROC AUC\"] = metrics.roc_auc_score(targs, preds)\n",
        "        except:\n",
        "            pass\n",
        "    return results;\n",
        "\n",
        "\n",
        "results_metrics = thresholdsvm(21)      \n",
        "\n",
        "results_metrics.columns\n",
        "plt.plot(results_metrics.threshol,results_metrics.precision, label = \"Precision\")\n",
        "plt.plot(results_metrics.threshol,results_metrics.recall, label = \"Recall\")\n",
        "plt.xticks(range(min(results_metrics.threshol),max(results_metrics.threshol)))\n",
        "plt.xlabel('Threshold')\n",
        "plt.ylabel('% Precision - Recall')\n",
        "plt.title('Precision and Recall performance for different thresholds')\n",
        "plt.legend()\n",
        "plt.show()        "
      ],
      "execution_count": null,
      "outputs": [
        {
          "output_type": "stream",
          "text": [
            "/usr/local/lib/python3.6/dist-packages/sklearn/metrics/_classification.py:1272: UndefinedMetricWarning: Precision is ill-defined and being set to 0.0 due to no predicted samples. Use `zero_division` parameter to control this behavior.\n",
            "  _warn_prf(average, modifier, msg_start, len(result))\n",
            "/usr/local/lib/python3.6/dist-packages/sklearn/metrics/_classification.py:1272: UndefinedMetricWarning: Precision is ill-defined and being set to 0.0 due to no predicted samples. Use `zero_division` parameter to control this behavior.\n",
            "  _warn_prf(average, modifier, msg_start, len(result))\n",
            "/usr/local/lib/python3.6/dist-packages/sklearn/metrics/_classification.py:1272: UndefinedMetricWarning: Precision is ill-defined and being set to 0.0 due to no predicted samples. Use `zero_division` parameter to control this behavior.\n",
            "  _warn_prf(average, modifier, msg_start, len(result))\n",
            "/usr/local/lib/python3.6/dist-packages/sklearn/metrics/_classification.py:1272: UndefinedMetricWarning: Precision is ill-defined and being set to 0.0 due to no predicted samples. Use `zero_division` parameter to control this behavior.\n",
            "  _warn_prf(average, modifier, msg_start, len(result))\n"
          ],
          "name": "stderr"
        },
        {
          "output_type": "display_data",
          "data": {
            "image/png": "[encoded data removed]",
            "text/plain": [
              "<Figure size 432x288 with 1 Axes>"
            ]
          },
          "metadata": {
            "tags": [],
            "needs_background": "light"
          }
        }
      ]
    },
    {
      "cell_type": "markdown",
      "metadata": {
        "id": "voamKQyi2okO"
      },
      "source": [
        "### **8.2: As I said before, the idea of ​​the threshold is really bad. To fix that, one option would be to create ranges of values ​​for sales. In this way, we could \"balance\" the data slightly and then apply some oversampling technique. Here I show an example and then I calculate the confusion matrix.**"
      ]
    },
    {
      "cell_type": "code",
      "metadata": {
        "colab": {
          "base_uri": "https://localhost:8080/",
          "height": 530
        },
        "id": "_beSGRL3t6Si",
        "outputId": "5d2baa5d-3d06-472a-f742-f35452ac5ecb"
      },
      "source": [
        "\n",
        "# 8.2 Create bins (manually unfortunately. I have to change this!)\n",
        "\n",
        "y_train_tm_range = y_train_tm\n",
        "\n",
        "range_values = []\n",
        "for row in y_train_tm_range:\n",
        "    if row == 0:\n",
        "        range_values.append('0')\n",
        "    elif 1<= row <=3: \n",
        "        range_values.append('1-3')\n",
        "    elif 4<= row <=8: \n",
        "        range_values.append('4-8')\n",
        "    elif 9<= row <=14: \n",
        "        range_values.append('9-14')\n",
        "    elif row>=15: \n",
        "        range_values.append('>15')\n",
        "    else: \n",
        "        range_values.append('Not_Rated')\n",
        "        \n",
        "y_train_tm_range = pd.DataFrame(y_train_tm_range)\n",
        "y_train_tm_range[\"range\"] = range_values\n",
        "\n",
        "# 8.3 SMOTE (Oversampling)\n",
        "\n",
        "from imblearn.over_sampling import SMOTE\n",
        "oversample = SMOTE()\n",
        "zX, zy = oversample.fit_resample(X_train_tm, y_train_tm_range.range)\n",
        "\n",
        "X_train, X_test, y_train, y_test = train_test_split(zX, zy, test_size=0.3, random_state=1, stratify = zy)\n",
        "\n",
        "#create SVM model and train it\n",
        "clf = svm.SVC(kernel = 'rbf', C = 1.0)\n",
        "\n",
        "clf.fit(X_train, y_train)\n",
        "\n",
        "clf.score(X_test, y_test)\n",
        "\n",
        "preds = clf.predict(X_test)\n",
        "targs = y_test \n",
        "\n",
        "from sklearn.metrics import confusion_matrix\n",
        "from sklearn.metrics import plot_confusion_matrix\n",
        "confusion_matrix(y_test, preds)\n",
        "\n",
        "plot_confusion_matrix(clf, X_test, y_test)  \n",
        "\n"
      ],
      "execution_count": null,
      "outputs": [
        {
          "output_type": "stream",
          "text": [
            "/usr/local/lib/python3.6/dist-packages/sklearn/externals/six.py:31: FutureWarning: The module is deprecated in version 0.21 and will be removed in version 0.23 since we've dropped support for Python 2.7. Please rely on the official version of six (https://pypi.org/project/six/).\n",
            "  \"(https://pypi.org/project/six/).\", FutureWarning)\n",
            "/usr/local/lib/python3.6/dist-packages/sklearn/utils/deprecation.py:144: FutureWarning: The sklearn.neighbors.base module is  deprecated in version 0.22 and will be removed in version 0.24. The corresponding classes / functions should instead be imported from sklearn.neighbors. Anything that cannot be imported from sklearn.neighbors is now part of the private API.\n",
            "  warnings.warn(message, FutureWarning)\n",
            "/usr/local/lib/python3.6/dist-packages/sklearn/utils/deprecation.py:87: FutureWarning: Function safe_indexing is deprecated; safe_indexing is deprecated in version 0.22 and will be removed in version 0.24.\n",
            "  warnings.warn(msg, category=FutureWarning)\n",
            "/usr/local/lib/python3.6/dist-packages/sklearn/utils/deprecation.py:87: FutureWarning: Function safe_indexing is deprecated; safe_indexing is deprecated in version 0.22 and will be removed in version 0.24.\n",
            "  warnings.warn(msg, category=FutureWarning)\n",
            "/usr/local/lib/python3.6/dist-packages/sklearn/utils/deprecation.py:87: FutureWarning: Function safe_indexing is deprecated; safe_indexing is deprecated in version 0.22 and will be removed in version 0.24.\n",
            "  warnings.warn(msg, category=FutureWarning)\n",
            "/usr/local/lib/python3.6/dist-packages/sklearn/utils/deprecation.py:87: FutureWarning: Function safe_indexing is deprecated; safe_indexing is deprecated in version 0.22 and will be removed in version 0.24.\n",
            "  warnings.warn(msg, category=FutureWarning)\n"
          ],
          "name": "stderr"
        },
        {
          "output_type": "execute_result",
          "data": {
            "text/plain": [
              "<sklearn.metrics._plot.confusion_matrix.ConfusionMatrixDisplay at 0x7fcfdbdda048>"
            ]
          },
          "metadata": {
            "tags": []
          },
          "execution_count": 18
        },
        {
          "output_type": "display_data",
          "data": {
            "image/png": "[encoded data removed]",
            "text/plain": [
              "<Figure size 432x288 with 2 Axes>"
            ]
          },
          "metadata": {
            "tags": [],
            "needs_background": "light"
          }
        }
      ]
    },
    {
      "cell_type": "code",
      "metadata": {
        "id": "7JSVmZ2OvS1b",
        "colab": {
          "base_uri": "https://localhost:8080/"
        },
        "outputId": "f555ad22-7561-46e0-d4bc-62d3d94be452"
      },
      "source": [
        "# Calculate the Accuracy, Precision and Recall of the confusion matrix\n",
        "\n",
        "results_cf_matrix = confusion_matrix(y_test, preds) #Create the confusion matrix\n",
        "\n",
        "def accuracy(confusion_matrix):\n",
        "    diagonal_sum = confusion_matrix.trace()\n",
        "    sum_of_all_elements = confusion_matrix.sum()\n",
        "    return diagonal_sum / sum_of_all_elements\n",
        "\n",
        "\n",
        "\n",
        "print(\"accuracy: \",accuracy(results_cf_matrix))"
      ],
      "execution_count": null,
      "outputs": [
        {
          "output_type": "stream",
          "text": [
            "accuracy:  0.8517200474495848\n"
          ],
          "name": "stdout"
        }
      ]
    },
    {
      "cell_type": "code",
      "metadata": {
        "colab": {
          "base_uri": "https://localhost:8080/",
          "height": 295
        },
        "id": "orIZ0fx4OKuf",
        "outputId": "1f18eab4-4a1f-4a8a-fcb6-afaf297f53b7"
      },
      "source": [
        "# 8.4 optimization of the SVM model\n",
        "\n",
        "def optimization_svm(x,y):\n",
        "    results_svm_op = []\n",
        "    for kernel in ('linear', 'poly', 'rbf'):\n",
        "        for C in range(1,101):\n",
        "            X_train, X_test, y_train, y_test = train_test_split(x, y, test_size=0.3, random_state=1, stratify = y)\n",
        "            clf = svm.SVC(kernel = kernel, C = C)\n",
        "            clf.fit(X_train, y_train)\n",
        "            clf.score(X_test, y_test)\n",
        "            preds = clf.predict(X_test) \n",
        "            targs = y_test \n",
        "            results_cf_matrix = confusion_matrix(y_test, preds)\n",
        "            results_svm_op.append([kernel,C,accuracy(results_cf_matrix)])\n",
        "            df_results_svm_op= pd.DataFrame(results_svm_op, columns=['kernel', 'C', 'accuracy'])\n",
        "    return(df_results_svm_op)\n",
        "\n",
        "\n",
        "\n",
        "results_opt_svm = optimization_svm(zX, zy)\n",
        "\n",
        "plt.plot(results_opt_svm[results_opt_svm[\"kernel\"] == \"rbf\"].C,results_opt_svm[results_opt_svm[\"kernel\"] == \"rbf\"].accuracy, label = \"rbf\")\n",
        "plt.plot(results_opt_svm[results_opt_svm[\"kernel\"] == \"rbf\"].C,results_opt_svm[results_opt_svm[\"kernel\"] == \"linear\"].accuracy, color = \"red\", label = \"linear\")\n",
        "plt.plot(results_opt_svm[results_opt_svm[\"kernel\"] == \"rbf\"].C,results_opt_svm[results_opt_svm[\"kernel\"] == \"poly\"].accuracy, color = \"orange\", label = \"poly\")\n",
        "plt.xlabel('Parameter C')\n",
        "plt.ylabel('% Accuracy')\n",
        "plt.title('Accuracy for different values ​​of C')\n",
        "plt.legend()\n",
        "plt.show()        \n"
      ],
      "execution_count": null,
      "outputs": [
        {
          "output_type": "display_data",
          "data": {
            "image/png": "[encoded data removed]",
            "text/plain": [
              "<Figure size 432x288 with 1 Axes>"
            ]
          },
          "metadata": {
            "tags": [],
            "needs_background": "light"
          }
        }
      ]
    },
    {
      "cell_type": "code",
      "metadata": {
        "colab": {
          "base_uri": "https://localhost:8080/",
          "height": 399
        },
        "id": "mOLYYGbFO4iH",
        "outputId": "63e7d13b-7090-45cb-89bc-d200fbfe56ad"
      },
      "source": [
        "results_opt_svm.sort_values(\"accuracy\", ascending = False)"
      ],
      "execution_count": null,
      "outputs": [
        {
          "output_type": "execute_result",
          "data": {
            "text/html": [
              "<div>\n",
              "<style scoped>\n",
              "    .dataframe tbody tr th:only-of-type {\n",
              "        vertical-align: middle;\n",
              "    }\n",
              "\n",
              "    .dataframe tbody tr th {\n",
              "        vertical-align: top;\n",
              "    }\n",
              "\n",
              "    .dataframe thead th {\n",
              "        text-align: right;\n",
              "    }\n",
              "</style>\n",
              "<table border=\"1\" class=\"dataframe\">\n",
              "  <thead>\n",
              "    <tr style=\"text-align: right;\">\n",
              "      <th></th>\n",
              "      <th>kernel</th>\n",
              "      <th>C</th>\n",
              "      <th>accuracy</th>\n",
              "    </tr>\n",
              "  </thead>\n",
              "  <tbody>\n",
              "    <tr>\n",
              "      <th>263</th>\n",
              "      <td>rbf</td>\n",
              "      <td>64</td>\n",
              "      <td>0.906287</td>\n",
              "    </tr>\n",
              "    <tr>\n",
              "      <th>267</th>\n",
              "      <td>rbf</td>\n",
              "      <td>68</td>\n",
              "      <td>0.906287</td>\n",
              "    </tr>\n",
              "    <tr>\n",
              "      <th>258</th>\n",
              "      <td>rbf</td>\n",
              "      <td>59</td>\n",
              "      <td>0.906287</td>\n",
              "    </tr>\n",
              "    <tr>\n",
              "      <th>259</th>\n",
              "      <td>rbf</td>\n",
              "      <td>60</td>\n",
              "      <td>0.906287</td>\n",
              "    </tr>\n",
              "    <tr>\n",
              "      <th>260</th>\n",
              "      <td>rbf</td>\n",
              "      <td>61</td>\n",
              "      <td>0.906287</td>\n",
              "    </tr>\n",
              "    <tr>\n",
              "      <th>...</th>\n",
              "      <td>...</td>\n",
              "      <td>...</td>\n",
              "      <td>...</td>\n",
              "    </tr>\n",
              "    <tr>\n",
              "      <th>104</th>\n",
              "      <td>poly</td>\n",
              "      <td>5</td>\n",
              "      <td>0.752076</td>\n",
              "    </tr>\n",
              "    <tr>\n",
              "      <th>103</th>\n",
              "      <td>poly</td>\n",
              "      <td>4</td>\n",
              "      <td>0.743772</td>\n",
              "    </tr>\n",
              "    <tr>\n",
              "      <th>102</th>\n",
              "      <td>poly</td>\n",
              "      <td>3</td>\n",
              "      <td>0.736655</td>\n",
              "    </tr>\n",
              "    <tr>\n",
              "      <th>101</th>\n",
              "      <td>poly</td>\n",
              "      <td>2</td>\n",
              "      <td>0.729537</td>\n",
              "    </tr>\n",
              "    <tr>\n",
              "      <th>100</th>\n",
              "      <td>poly</td>\n",
              "      <td>1</td>\n",
              "      <td>0.697509</td>\n",
              "    </tr>\n",
              "  </tbody>\n",
              "</table>\n",
              "<p>300 rows × 3 columns</p>\n",
              "</div>"
            ],
            "text/plain": [
              "    kernel   C  accuracy\n",
              "263    rbf  64  0.906287\n",
              "267    rbf  68  0.906287\n",
              "258    rbf  59  0.906287\n",
              "259    rbf  60  0.906287\n",
              "260    rbf  61  0.906287\n",
              "..     ...  ..       ...\n",
              "104   poly   5  0.752076\n",
              "103   poly   4  0.743772\n",
              "102   poly   3  0.736655\n",
              "101   poly   2  0.729537\n",
              "100   poly   1  0.697509\n",
              "\n",
              "[300 rows x 3 columns]"
            ]
          },
          "metadata": {
            "tags": []
          },
          "execution_count": 24
        }
      ]
    },
    {
      "cell_type": "code",
      "metadata": {
        "colab": {
          "base_uri": "https://localhost:8080/",
          "height": 297
        },
        "id": "mh_e6fAEPOmT",
        "outputId": "57892009-7866-4e2e-d5da-bb2d108a5269"
      },
      "source": [
        "# 8.5 Final Model\n",
        "\n",
        "X_train, X_test, y_train, y_test = train_test_split(zX, zy, test_size=0.3, random_state=1, stratify = zy)\n",
        "\n",
        "#create SVM model and train it\n",
        "clf = svm.SVC(kernel = 'rbf', C = 64)\n",
        "\n",
        "clf.fit(X_train, y_train)\n",
        "\n",
        "clf.score(X_test, y_test)\n",
        "\n",
        "preds = clf.predict(X_test)\n",
        "targs = y_test \n",
        "\n",
        "results_cf_matrix = confusion_matrix(y_test, preds)\n",
        "plot_confusion_matrix(clf, X_test, y_test)  \n",
        "\n",
        "print(\"Accuracy: \",accuracy(results_cf_matrix))"
      ],
      "execution_count": null,
      "outputs": [
        {
          "output_type": "stream",
          "text": [
            "Accuracy:  0.9062870699881376\n"
          ],
          "name": "stdout"
        },
        {
          "output_type": "display_data",
          "data": {
            "image/png": "[encoded data removed]",
            "text/plain": [
              "<Figure size 432x288 with 2 Axes>"
            ]
          },
          "metadata": {
            "tags": [],
            "needs_background": "light"
          }
        }
      ]
    },
    {
      "cell_type": "markdown",
      "metadata": {
        "id": "Gz0I7nShB_u8"
      },
      "source": [
        "Finally, the model achieved an accuracy of 90%, going from a regression problem to a classification problem. This is due to the low amount of data to estimate sales for some sensors in particular."
      ]
    }
  ]
}