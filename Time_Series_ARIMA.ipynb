{
  "nbformat": 4,
  "nbformat_minor": 0,
  "metadata": {
    "colab": {
      "name": "Time_Series_ARIMA.ipynb",
      "provenance": [],
      "collapsed_sections": []
    },
    "kernelspec": {
      "name": "python3",
      "display_name": "Python 3"
    }
  },
  "cells": [
    {
      "cell_type": "markdown",
      "metadata": {
        "id": "ambxkxGQE69I"
      },
      "source": [
        "## **Time Series: ARIMA**"
      ]
    },
    {
      "cell_type": "code",
      "metadata": {
        "id": "zKbDLqpUdAo0"
      },
      "source": [
        "import pandas as pd \r\n",
        "import numpy as np\r\n",
        "import matplotlib.pyplot as plt\r\n",
        "import datetime\r\n",
        "from google.colab import files\r\n",
        "import io\r\n",
        "from statsmodels.tsa.stattools import adfuller\r\n",
        "import statsmodels.api as sm"
      ],
      "execution_count": null,
      "outputs": []
    },
    {
      "cell_type": "code",
      "metadata": {
        "colab": {
          "resources": {
            "http://localhost:8080/nbextensions/google.colab/files.js": {
              "data": "Ly8gQ29weXJpZ2h0IDIwMTcgR29vZ2xlIExMQwovLwovLyBMaWNlbnNlZCB1bmRlciB0aGUgQXBhY2hlIExpY2Vuc2UsIFZlcnNpb24gMi4wICh0aGUgIkxpY2Vuc2UiKTsKLy8geW91IG1heSBub3QgdXNlIHRoaXMgZmlsZSBleGNlcHQgaW4gY29tcGxpYW5jZSB3aXRoIHRoZSBMaWNlbnNlLgovLyBZb3UgbWF5IG9idGFpbiBhIGNvcHkgb2YgdGhlIExpY2Vuc2UgYXQKLy8KLy8gICAgICBodHRwOi8vd3d3LmFwYWNoZS5vcmcvbGljZW5zZXMvTElDRU5TRS0yLjAKLy8KLy8gVW5sZXNzIHJlcXVpcmVkIGJ5IGFwcGxpY2FibGUgbGF3IG9yIGFncmVlZCB0byBpbiB3cml0aW5nLCBzb2Z0d2FyZQovLyBkaXN0cmlidXRlZCB1bmRlciB0aGUgTGljZW5zZSBpcyBkaXN0cmlidXRlZCBvbiBhbiAiQVMgSVMiIEJBU0lTLAovLyBXSVRIT1VUIFdBUlJBTlRJRVMgT1IgQ09ORElUSU9OUyBPRiBBTlkgS0lORCwgZWl0aGVyIGV4cHJlc3Mgb3IgaW1wbGllZC4KLy8gU2VlIHRoZSBMaWNlbnNlIGZvciB0aGUgc3BlY2lmaWMgbGFuZ3VhZ2UgZ292ZXJuaW5nIHBlcm1pc3Npb25zIGFuZAovLyBsaW1pdGF0aW9ucyB1bmRlciB0aGUgTGljZW5zZS4KCi8qKgogKiBAZmlsZW92ZXJ2aWV3IEhlbHBlcnMgZm9yIGdvb2dsZS5jb2xhYiBQeXRob24gbW9kdWxlLgogKi8KKGZ1bmN0aW9uKHNjb3BlKSB7CmZ1bmN0aW9uIHNwYW4odGV4dCwgc3R5bGVBdHRyaWJ1dGVzID0ge30pIHsKICBjb25zdCBlbGVtZW50ID0gZG9jdW1lbnQuY3JlYXRlRWxlbWVudCgnc3BhbicpOwogIGVsZW1lbnQudGV4dENvbnRlbnQgPSB0ZXh0OwogIGZvciAoY29uc3Qga2V5IG9mIE9iamVjdC5rZXlzKHN0eWxlQXR0cmlidXRlcykpIHsKICAgIGVsZW1lbnQuc3R5bGVba2V5XSA9IHN0eWxlQXR0cmlidXRlc1trZXldOwogIH0KICByZXR1cm4gZWxlbWVudDsKfQoKLy8gTWF4IG51bWJlciBvZiBieXRlcyB3aGljaCB3aWxsIGJlIHVwbG9hZGVkIGF0IGEgdGltZS4KY29uc3QgTUFYX1BBWUxPQURfU0laRSA9IDEwMCAqIDEwMjQ7CgpmdW5jdGlvbiBfdXBsb2FkRmlsZXMoaW5wdXRJZCwgb3V0cHV0SWQpIHsKICBjb25zdCBzdGVwcyA9IHVwbG9hZEZpbGVzU3RlcChpbnB1dElkLCBvdXRwdXRJZCk7CiAgY29uc3Qgb3V0cHV0RWxlbWVudCA9IGRvY3VtZW50LmdldEVsZW1lbnRCeUlkKG91dHB1dElkKTsKICAvLyBDYWNoZSBzdGVwcyBvbiB0aGUgb3V0cHV0RWxlbWVudCB0byBtYWtlIGl0IGF2YWlsYWJsZSBmb3IgdGhlIG5leHQgY2FsbAogIC8vIHRvIHVwbG9hZEZpbGVzQ29udGludWUgZnJvbSBQeXRob24uCiAgb3V0cHV0RWxlbWVudC5zdGVwcyA9IHN0ZXBzOwoKICByZXR1cm4gX3VwbG9hZEZpbGVzQ29udGludWUob3V0cHV0SWQpOwp9CgovLyBUaGlzIGlzIHJvdWdobHkgYW4gYXN5bmMgZ2VuZXJhdG9yIChub3Qgc3VwcG9ydGVkIGluIHRoZSBicm93c2VyIHlldCksCi8vIHdoZXJlIHRoZXJlIGFyZSBtdWx0aXBsZSBhc3luY2hyb25vdXMgc3RlcHMgYW5kIHRoZSBQeXRob24gc2lkZSBpcyBnb2luZwovLyB0byBwb2xsIGZvciBjb21wbGV0aW9uIG9mIGVhY2ggc3RlcC4KLy8gVGhpcyB1c2VzIGEgUHJvbWlzZSB0byBibG9jayB0aGUgcHl0aG9uIHNpZGUgb24gY29tcGxldGlvbiBvZiBlYWNoIHN0ZXAsCi8vIHRoZW4gcGFzc2VzIHRoZSByZXN1bHQgb2YgdGhlIHByZXZpb3VzIHN0ZXAgYXMgdGhlIGlucHV0IHRvIHRoZSBuZXh0IHN0ZXAuCmZ1bmN0aW9uIF91cGxvYWRGaWxlc0NvbnRpbnVlKG91dHB1dElkKSB7CiAgY29uc3Qgb3V0cHV0RWxlbWVudCA9IGRvY3VtZW50LmdldEVsZW1lbnRCeUlkKG91dHB1dElkKTsKICBjb25zdCBzdGVwcyA9IG91dHB1dEVsZW1lbnQuc3RlcHM7CgogIGNvbnN0IG5leHQgPSBzdGVwcy5uZXh0KG91dHB1dEVsZW1lbnQubGFzdFByb21pc2VWYWx1ZSk7CiAgcmV0dXJuIFByb21pc2UucmVzb2x2ZShuZXh0LnZhbHVlLnByb21pc2UpLnRoZW4oKHZhbHVlKSA9PiB7CiAgICAvLyBDYWNoZSB0aGUgbGFzdCBwcm9taXNlIHZhbHVlIHRvIG1ha2UgaXQgYXZhaWxhYmxlIHRvIHRoZSBuZXh0CiAgICAvLyBzdGVwIG9mIHRoZSBnZW5lcmF0b3IuCiAgICBvdXRwdXRFbGVtZW50Lmxhc3RQcm9taXNlVmFsdWUgPSB2YWx1ZTsKICAgIHJldHVybiBuZXh0LnZhbHVlLnJlc3BvbnNlOwogIH0pOwp9CgovKioKICogR2VuZXJhdG9yIGZ1bmN0aW9uIHdoaWNoIGlzIGNhbGxlZCBiZXR3ZWVuIGVhY2ggYXN5bmMgc3RlcCBvZiB0aGUgdXBsb2FkCiAqIHByb2Nlc3MuCiAqIEBwYXJhbSB7c3RyaW5nfSBpbnB1dElkIEVsZW1lbnQgSUQgb2YgdGhlIGlucHV0IGZpbGUgcGlja2VyIGVsZW1lbnQuCiAqIEBwYXJhbSB7c3RyaW5nfSBvdXRwdXRJZCBFbGVtZW50IElEIG9mIHRoZSBvdXRwdXQgZGlzcGxheS4KICogQHJldHVybiB7IUl0ZXJhYmxlPCFPYmplY3Q+fSBJdGVyYWJsZSBvZiBuZXh0IHN0ZXBzLgogKi8KZnVuY3Rpb24qIHVwbG9hZEZpbGVzU3RlcChpbnB1dElkLCBvdXRwdXRJZCkgewogIGNvbnN0IGlucHV0RWxlbWVudCA9IGRvY3VtZW50LmdldEVsZW1lbnRCeUlkKGlucHV0SWQpOwogIGlucHV0RWxlbWVudC5kaXNhYmxlZCA9IGZhbHNlOwoKICBjb25zdCBvdXRwdXRFbGVtZW50ID0gZG9jdW1lbnQuZ2V0RWxlbWVudEJ5SWQob3V0cHV0SWQpOwogIG91dHB1dEVsZW1lbnQuaW5uZXJIVE1MID0gJyc7CgogIGNvbnN0IHBpY2tlZFByb21pc2UgPSBuZXcgUHJvbWlzZSgocmVzb2x2ZSkgPT4gewogICAgaW5wdXRFbGVtZW50LmFkZEV2ZW50TGlzdGVuZXIoJ2NoYW5nZScsIChlKSA9PiB7CiAgICAgIHJlc29sdmUoZS50YXJnZXQuZmlsZXMpOwogICAgfSk7CiAgfSk7CgogIGNvbnN0IGNhbmNlbCA9IGRvY3VtZW50LmNyZWF0ZUVsZW1lbnQoJ2J1dHRvbicpOwogIGlucHV0RWxlbWVudC5wYXJlbnRFbGVtZW50LmFwcGVuZENoaWxkKGNhbmNlbCk7CiAgY2FuY2VsLnRleHRDb250ZW50ID0gJ0NhbmNlbCB1cGxvYWQnOwogIGNvbnN0IGNhbmNlbFByb21pc2UgPSBuZXcgUHJvbWlzZSgocmVzb2x2ZSkgPT4gewogICAgY2FuY2VsLm9uY2xpY2sgPSAoKSA9PiB7CiAgICAgIHJlc29sdmUobnVsbCk7CiAgICB9OwogIH0pOwoKICAvLyBXYWl0IGZvciB0aGUgdXNlciB0byBwaWNrIHRoZSBmaWxlcy4KICBjb25zdCBmaWxlcyA9IHlpZWxkIHsKICAgIHByb21pc2U6IFByb21pc2UucmFjZShbcGlja2VkUHJvbWlzZSwgY2FuY2VsUHJvbWlzZV0pLAogICAgcmVzcG9uc2U6IHsKICAgICAgYWN0aW9uOiAnc3RhcnRpbmcnLAogICAgfQogIH07CgogIGNhbmNlbC5yZW1vdmUoKTsKCiAgLy8gRGlzYWJsZSB0aGUgaW5wdXQgZWxlbWVudCBzaW5jZSBmdXJ0aGVyIHBpY2tzIGFyZSBub3QgYWxsb3dlZC4KICBpbnB1dEVsZW1lbnQuZGlzYWJsZWQgPSB0cnVlOwoKICBpZiAoIWZpbGVzKSB7CiAgICByZXR1cm4gewogICAgICByZXNwb25zZTogewogICAgICAgIGFjdGlvbjogJ2NvbXBsZXRlJywKICAgICAgfQogICAgfTsKICB9CgogIGZvciAoY29uc3QgZmlsZSBvZiBmaWxlcykgewogICAgY29uc3QgbGkgPSBkb2N1bWVudC5jcmVhdGVFbGVtZW50KCdsaScpOwogICAgbGkuYXBwZW5kKHNwYW4oZmlsZS5uYW1lLCB7Zm9udFdlaWdodDogJ2JvbGQnfSkpOwogICAgbGkuYXBwZW5kKHNwYW4oCiAgICAgICAgYCgke2ZpbGUudHlwZSB8fCAnbi9hJ30pIC0gJHtmaWxlLnNpemV9IGJ5dGVzLCBgICsKICAgICAgICBgbGFzdCBtb2RpZmllZDogJHsKICAgICAgICAgICAgZmlsZS5sYXN0TW9kaWZpZWREYXRlID8gZmlsZS5sYXN0TW9kaWZpZWREYXRlLnRvTG9jYWxlRGF0ZVN0cmluZygpIDoKICAgICAgICAgICAgICAgICAgICAgICAgICAgICAgICAgICAgJ24vYSd9IC0gYCkpOwogICAgY29uc3QgcGVyY2VudCA9IHNwYW4oJzAlIGRvbmUnKTsKICAgIGxpLmFwcGVuZENoaWxkKHBlcmNlbnQpOwoKICAgIG91dHB1dEVsZW1lbnQuYXBwZW5kQ2hpbGQobGkpOwoKICAgIGNvbnN0IGZpbGVEYXRhUHJvbWlzZSA9IG5ldyBQcm9taXNlKChyZXNvbHZlKSA9PiB7CiAgICAgIGNvbnN0IHJlYWRlciA9IG5ldyBGaWxlUmVhZGVyKCk7CiAgICAgIHJlYWRlci5vbmxvYWQgPSAoZSkgPT4gewogICAgICAgIHJlc29sdmUoZS50YXJnZXQucmVzdWx0KTsKICAgICAgfTsKICAgICAgcmVhZGVyLnJlYWRBc0FycmF5QnVmZmVyKGZpbGUpOwogICAgfSk7CiAgICAvLyBXYWl0IGZvciB0aGUgZGF0YSB0byBiZSByZWFkeS4KICAgIGxldCBmaWxlRGF0YSA9IHlpZWxkIHsKICAgICAgcHJvbWlzZTogZmlsZURhdGFQcm9taXNlLAogICAgICByZXNwb25zZTogewogICAgICAgIGFjdGlvbjogJ2NvbnRpbnVlJywKICAgICAgfQogICAgfTsKCiAgICAvLyBVc2UgYSBjaHVua2VkIHNlbmRpbmcgdG8gYXZvaWQgbWVzc2FnZSBzaXplIGxpbWl0cy4gU2VlIGIvNjIxMTU2NjAuCiAgICBsZXQgcG9zaXRpb24gPSAwOwogICAgd2hpbGUgKHBvc2l0aW9uIDwgZmlsZURhdGEuYnl0ZUxlbmd0aCkgewogICAgICBjb25zdCBsZW5ndGggPSBNYXRoLm1pbihmaWxlRGF0YS5ieXRlTGVuZ3RoIC0gcG9zaXRpb24sIE1BWF9QQVlMT0FEX1NJWkUpOwogICAgICBjb25zdCBjaHVuayA9IG5ldyBVaW50OEFycmF5KGZpbGVEYXRhLCBwb3NpdGlvbiwgbGVuZ3RoKTsKICAgICAgcG9zaXRpb24gKz0gbGVuZ3RoOwoKICAgICAgY29uc3QgYmFzZTY0ID0gYnRvYShTdHJpbmcuZnJvbUNoYXJDb2RlLmFwcGx5KG51bGwsIGNodW5rKSk7CiAgICAgIHlpZWxkIHsKICAgICAgICByZXNwb25zZTogewogICAgICAgICAgYWN0aW9uOiAnYXBwZW5kJywKICAgICAgICAgIGZpbGU6IGZpbGUubmFtZSwKICAgICAgICAgIGRhdGE6IGJhc2U2NCwKICAgICAgICB9LAogICAgICB9OwogICAgICBwZXJjZW50LnRleHRDb250ZW50ID0KICAgICAgICAgIGAke01hdGgucm91bmQoKHBvc2l0aW9uIC8gZmlsZURhdGEuYnl0ZUxlbmd0aCkgKiAxMDApfSUgZG9uZWA7CiAgICB9CiAgfQoKICAvLyBBbGwgZG9uZS4KICB5aWVsZCB7CiAgICByZXNwb25zZTogewogICAgICBhY3Rpb246ICdjb21wbGV0ZScsCiAgICB9CiAgfTsKfQoKc2NvcGUuZ29vZ2xlID0gc2NvcGUuZ29vZ2xlIHx8IHt9OwpzY29wZS5nb29nbGUuY29sYWIgPSBzY29wZS5nb29nbGUuY29sYWIgfHwge307CnNjb3BlLmdvb2dsZS5jb2xhYi5fZmlsZXMgPSB7CiAgX3VwbG9hZEZpbGVzLAogIF91cGxvYWRGaWxlc0NvbnRpbnVlLAp9Owp9KShzZWxmKTsK",
              "ok": true,
              "headers": [
                [
                  "content-type",
                  "application/javascript"
                ]
              ],
              "status": 200,
              "status_text": ""
            }
          },
          "base_uri": "https://localhost:8080/",
          "height": 72
        },
        "id": "fGNnEVgfdNy7",
        "outputId": "64463c66-ffd8-4347-89dd-271ecdcacc83"
      },
      "source": [
        "uploaded = files.upload()"
      ],
      "execution_count": null,
      "outputs": [
        {
          "output_type": "display_data",
          "data": {
            "text/html": [
              "\n",
              "     <input type=\"file\" id=\"files-51e63154-ca88-4090-8d1b-c12bb3a08cbc\" name=\"files[]\" multiple disabled\n",
              "        style=\"border:none\" />\n",
              "     <output id=\"result-51e63154-ca88-4090-8d1b-c12bb3a08cbc\">\n",
              "      Upload widget is only available when the cell has been executed in the\n",
              "      current browser session. Please rerun this cell to enable.\n",
              "      </output>\n",
              "      <script src=\"/nbextensions/google.colab/files.js\"></script> "
            ],
            "text/plain": [
              "<IPython.core.display.HTML object>"
            ]
          },
          "metadata": {
            "tags": []
          }
        },
        {
          "output_type": "stream",
          "text": [
            "Saving beacon_data.csv to beacon_data.csv\n"
          ],
          "name": "stdout"
        }
      ]
    },
    {
      "cell_type": "code",
      "metadata": {
        "id": "JZqjFl_LdOag"
      },
      "source": [
        "data = pd.read_csv(io.BytesIO(uploaded[\"beacon_data.csv\"]),sep = ';') #read the .csv file"
      ],
      "execution_count": null,
      "outputs": []
    },
    {
      "cell_type": "code",
      "metadata": {
        "colab": {
          "base_uri": "https://localhost:8080/",
          "height": 281
        },
        "id": "w7ha9E--e98J",
        "outputId": "b319ca0b-6a56-45a4-d625-1e590485bb08"
      },
      "source": [
        "data.head()"
      ],
      "execution_count": null,
      "outputs": [
        {
          "output_type": "execute_result",
          "data": {
            "text/html": [
              "<div>\n",
              "<style scoped>\n",
              "    .dataframe tbody tr th:only-of-type {\n",
              "        vertical-align: middle;\n",
              "    }\n",
              "\n",
              "    .dataframe tbody tr th {\n",
              "        vertical-align: top;\n",
              "    }\n",
              "\n",
              "    .dataframe thead th {\n",
              "        text-align: right;\n",
              "    }\n",
              "</style>\n",
              "<table border=\"1\" class=\"dataframe\">\n",
              "  <thead>\n",
              "    <tr style=\"text-align: right;\">\n",
              "      <th></th>\n",
              "      <th>id</th>\n",
              "      <th>gtid</th>\n",
              "      <th>vendor_id</th>\n",
              "      <th>subscriber_id</th>\n",
              "      <th>merchant_id</th>\n",
              "      <th>signal_type</th>\n",
              "      <th>entry_date</th>\n",
              "      <th>exit_date</th>\n",
              "      <th>latitude</th>\n",
              "      <th>longitude</th>\n",
              "      <th>dongle_id</th>\n",
              "      <th>distance</th>\n",
              "      <th>proximity</th>\n",
              "      <th>rssi</th>\n",
              "    </tr>\n",
              "  </thead>\n",
              "  <tbody>\n",
              "    <tr>\n",
              "      <th>0</th>\n",
              "      <td>2339839562</td>\n",
              "      <td>F9341167-6D6C-4321-924F-2E6B9D9CEF7A</td>\n",
              "      <td>135</td>\n",
              "      <td>29253903</td>\n",
              "      <td>2133</td>\n",
              "      <td>2</td>\n",
              "      <td>2017-05-01 09:54:14.000000</td>\n",
              "      <td>NaN</td>\n",
              "      <td>40.992124</td>\n",
              "      <td>29.126770</td>\n",
              "      <td>5536</td>\n",
              "      <td>-100.000000</td>\n",
              "      <td>unknown</td>\n",
              "      <td>0.0</td>\n",
              "    </tr>\n",
              "    <tr>\n",
              "      <th>1</th>\n",
              "      <td>2340151194</td>\n",
              "      <td>EB93B8DF-1F8D-4BD6-A4E5-67B9BACBF6CF</td>\n",
              "      <td>135</td>\n",
              "      <td>17090954</td>\n",
              "      <td>2133</td>\n",
              "      <td>2</td>\n",
              "      <td>2017-05-01 10:28:45.000000</td>\n",
              "      <td>NaN</td>\n",
              "      <td>40.992183</td>\n",
              "      <td>29.126761</td>\n",
              "      <td>5536</td>\n",
              "      <td>1668.100537</td>\n",
              "      <td>far</td>\n",
              "      <td>-86.0</td>\n",
              "    </tr>\n",
              "    <tr>\n",
              "      <th>2</th>\n",
              "      <td>2340151210</td>\n",
              "      <td>5563AB7A-C5B0-492D-80E5-04E52A5C0C28</td>\n",
              "      <td>135</td>\n",
              "      <td>17090954</td>\n",
              "      <td>2133</td>\n",
              "      <td>2</td>\n",
              "      <td>2017-05-01 10:28:45.000000</td>\n",
              "      <td>NaN</td>\n",
              "      <td>40.992183</td>\n",
              "      <td>29.126761</td>\n",
              "      <td>5536</td>\n",
              "      <td>1668.100537</td>\n",
              "      <td>far</td>\n",
              "      <td>-86.0</td>\n",
              "    </tr>\n",
              "    <tr>\n",
              "      <th>3</th>\n",
              "      <td>2340151187</td>\n",
              "      <td>55AFD11A-06A3-4E9D-8735-445F3DE654D7</td>\n",
              "      <td>178</td>\n",
              "      <td>15630196</td>\n",
              "      <td>2133</td>\n",
              "      <td>2</td>\n",
              "      <td>2017-05-01 10:28:45.000000</td>\n",
              "      <td>NaN</td>\n",
              "      <td>40.992183</td>\n",
              "      <td>29.126761</td>\n",
              "      <td>5536</td>\n",
              "      <td>1668.100537</td>\n",
              "      <td>far</td>\n",
              "      <td>-86.0</td>\n",
              "    </tr>\n",
              "    <tr>\n",
              "      <th>4</th>\n",
              "      <td>2340185826</td>\n",
              "      <td>52DE3BD3-655B-40F2-AC37-1199E0CBD31B</td>\n",
              "      <td>178</td>\n",
              "      <td>15630196</td>\n",
              "      <td>2133</td>\n",
              "      <td>2</td>\n",
              "      <td>2017-05-01 10:32:19.000000</td>\n",
              "      <td>NaN</td>\n",
              "      <td>40.992110</td>\n",
              "      <td>29.126783</td>\n",
              "      <td>5536</td>\n",
              "      <td>1467.799268</td>\n",
              "      <td>far</td>\n",
              "      <td>-85.0</td>\n",
              "    </tr>\n",
              "  </tbody>\n",
              "</table>\n",
              "</div>"
            ],
            "text/plain": [
              "           id                                  gtid  ...  proximity  rssi\n",
              "0  2339839562  F9341167-6D6C-4321-924F-2E6B9D9CEF7A  ...    unknown   0.0\n",
              "1  2340151194  EB93B8DF-1F8D-4BD6-A4E5-67B9BACBF6CF  ...        far -86.0\n",
              "2  2340151210  5563AB7A-C5B0-492D-80E5-04E52A5C0C28  ...        far -86.0\n",
              "3  2340151187  55AFD11A-06A3-4E9D-8735-445F3DE654D7  ...        far -86.0\n",
              "4  2340185826  52DE3BD3-655B-40F2-AC37-1199E0CBD31B  ...        far -85.0\n",
              "\n",
              "[5 rows x 14 columns]"
            ]
          },
          "metadata": {
            "tags": []
          },
          "execution_count": 6
        }
      ]
    },
    {
      "cell_type": "markdown",
      "metadata": {
        "id": "wThVJXEke-f9"
      },
      "source": [
        "## **Step 1: Check if the columns have NA values**"
      ]
    },
    {
      "cell_type": "code",
      "metadata": {
        "colab": {
          "base_uri": "https://localhost:8080/"
        },
        "id": "aMOpPYC_fPHm",
        "outputId": "6b81b5a8-f659-4b36-8a4a-4492f936c0d8"
      },
      "source": [
        "for column in data:\r\n",
        "    print(column +' '+ str(data[column].isnull().values.any()) +' '+str(sum(data[column].isnull())/len(data)))\r\n"
      ],
      "execution_count": null,
      "outputs": [
        {
          "output_type": "stream",
          "text": [
            "id False 0.0\n",
            "gtid False 0.0\n",
            "vendor_id False 0.0\n",
            "subscriber_id False 0.0\n",
            "merchant_id False 0.0\n",
            "signal_type False 0.0\n",
            "entry_date False 0.0\n",
            "exit_date True 0.8725349301397206\n",
            "latitude True 0.00775249500998004\n",
            "longitude True 0.00775249500998004\n",
            "dongle_id False 0.0\n",
            "distance True 0.12746506986027945\n",
            "proximity True 0.12746506986027945\n",
            "rssi True 0.12746506986027945\n"
          ],
          "name": "stdout"
        }
      ]
    },
    {
      "cell_type": "markdown",
      "metadata": {
        "id": "phqHtncofwOS"
      },
      "source": [
        "### ***Step 1.1: Then I removed some variables***"
      ]
    },
    {
      "cell_type": "code",
      "metadata": {
        "id": "IbHwMk60fVLo"
      },
      "source": [
        "data = data.drop(\"id\",axis = 1) # choose variable id or gtid. Both are almost similar.\r\n",
        "data = data.drop(\"merchant_id\",axis = 1) # unique ID\r\n",
        "data = data.drop(\"dongle_id\",axis = 1) # unique ID\r\n",
        "data = data.drop(\"exit_date\",axis = 1) # entry_date = exit_date when signal = 4\r\n",
        "data = data.drop(\"rssi\",axis = 1) \r\n"
      ],
      "execution_count": null,
      "outputs": []
    },
    {
      "cell_type": "markdown",
      "metadata": {
        "id": "KTBdsZXVf2Oi"
      },
      "source": [
        "## **Step 2: Removed all the repeated values. Just 4.6% of rows are repeated**"
      ]
    },
    {
      "cell_type": "code",
      "metadata": {
        "id": "lFUisdG9f31U"
      },
      "source": [
        "### 2. Find duplicated values using columns from vendor_id \r\n",
        "# I removed all the repeated values that I found\r\n",
        "\r\n",
        "duplicated_values = data.iloc[:,1:len(data.columns)].duplicated() #there are duplicated values\r\n",
        "sum(duplicated_values)/len(duplicated_values) # 4.6% of the rows are duplicated.\r\n",
        "data = data[duplicated_values == False] # removed the duplicated rows"
      ],
      "execution_count": null,
      "outputs": []
    },
    {
      "cell_type": "code",
      "metadata": {
        "colab": {
          "base_uri": "https://localhost:8080/",
          "height": 197
        },
        "id": "sD7XmEjciHu7",
        "outputId": "2e4823ca-4d91-4544-bb86-71980227b606"
      },
      "source": [
        "data.head()"
      ],
      "execution_count": null,
      "outputs": [
        {
          "output_type": "execute_result",
          "data": {
            "text/html": [
              "<div>\n",
              "<style scoped>\n",
              "    .dataframe tbody tr th:only-of-type {\n",
              "        vertical-align: middle;\n",
              "    }\n",
              "\n",
              "    .dataframe tbody tr th {\n",
              "        vertical-align: top;\n",
              "    }\n",
              "\n",
              "    .dataframe thead th {\n",
              "        text-align: right;\n",
              "    }\n",
              "</style>\n",
              "<table border=\"1\" class=\"dataframe\">\n",
              "  <thead>\n",
              "    <tr style=\"text-align: right;\">\n",
              "      <th></th>\n",
              "      <th>gtid</th>\n",
              "      <th>vendor_id</th>\n",
              "      <th>subscriber_id</th>\n",
              "      <th>signal_type</th>\n",
              "      <th>entry_date</th>\n",
              "      <th>latitude</th>\n",
              "      <th>longitude</th>\n",
              "      <th>distance</th>\n",
              "      <th>proximity</th>\n",
              "    </tr>\n",
              "  </thead>\n",
              "  <tbody>\n",
              "    <tr>\n",
              "      <th>0</th>\n",
              "      <td>F9341167-6D6C-4321-924F-2E6B9D9CEF7A</td>\n",
              "      <td>135</td>\n",
              "      <td>29253903</td>\n",
              "      <td>2</td>\n",
              "      <td>2017-05-01 09:54:14.000000</td>\n",
              "      <td>40.992124</td>\n",
              "      <td>29.126770</td>\n",
              "      <td>-100.000000</td>\n",
              "      <td>unknown</td>\n",
              "    </tr>\n",
              "    <tr>\n",
              "      <th>1</th>\n",
              "      <td>EB93B8DF-1F8D-4BD6-A4E5-67B9BACBF6CF</td>\n",
              "      <td>135</td>\n",
              "      <td>17090954</td>\n",
              "      <td>2</td>\n",
              "      <td>2017-05-01 10:28:45.000000</td>\n",
              "      <td>40.992183</td>\n",
              "      <td>29.126761</td>\n",
              "      <td>1668.100537</td>\n",
              "      <td>far</td>\n",
              "    </tr>\n",
              "    <tr>\n",
              "      <th>3</th>\n",
              "      <td>55AFD11A-06A3-4E9D-8735-445F3DE654D7</td>\n",
              "      <td>178</td>\n",
              "      <td>15630196</td>\n",
              "      <td>2</td>\n",
              "      <td>2017-05-01 10:28:45.000000</td>\n",
              "      <td>40.992183</td>\n",
              "      <td>29.126761</td>\n",
              "      <td>1668.100537</td>\n",
              "      <td>far</td>\n",
              "    </tr>\n",
              "    <tr>\n",
              "      <th>4</th>\n",
              "      <td>52DE3BD3-655B-40F2-AC37-1199E0CBD31B</td>\n",
              "      <td>178</td>\n",
              "      <td>15630196</td>\n",
              "      <td>2</td>\n",
              "      <td>2017-05-01 10:32:19.000000</td>\n",
              "      <td>40.992110</td>\n",
              "      <td>29.126783</td>\n",
              "      <td>1467.799268</td>\n",
              "      <td>far</td>\n",
              "    </tr>\n",
              "    <tr>\n",
              "      <th>5</th>\n",
              "      <td>EDDB06CB-686C-4DE5-9662-7798E9FD389A</td>\n",
              "      <td>135</td>\n",
              "      <td>17090954</td>\n",
              "      <td>2</td>\n",
              "      <td>2017-05-01 10:33:24.000000</td>\n",
              "      <td>40.992189</td>\n",
              "      <td>29.126786</td>\n",
              "      <td>1042.299640</td>\n",
              "      <td>far</td>\n",
              "    </tr>\n",
              "  </tbody>\n",
              "</table>\n",
              "</div>"
            ],
            "text/plain": [
              "                                   gtid  vendor_id  ...     distance  proximity\n",
              "0  F9341167-6D6C-4321-924F-2E6B9D9CEF7A        135  ...  -100.000000    unknown\n",
              "1  EB93B8DF-1F8D-4BD6-A4E5-67B9BACBF6CF        135  ...  1668.100537        far\n",
              "3  55AFD11A-06A3-4E9D-8735-445F3DE654D7        178  ...  1668.100537        far\n",
              "4  52DE3BD3-655B-40F2-AC37-1199E0CBD31B        178  ...  1467.799268        far\n",
              "5  EDDB06CB-686C-4DE5-9662-7798E9FD389A        135  ...  1042.299640        far\n",
              "\n",
              "[5 rows x 9 columns]"
            ]
          },
          "metadata": {
            "tags": []
          },
          "execution_count": 10
        }
      ]
    },
    {
      "cell_type": "markdown",
      "metadata": {
        "id": "wDI267yMgPA5"
      },
      "source": [
        "## **Step 3: Modify dates and removed latitude and longitude**\r\n"
      ]
    },
    {
      "cell_type": "code",
      "metadata": {
        "id": "LlnZxctGgQXq"
      },
      "source": [
        "data_1 = data[data[\"proximity\"] != \"unknown\"] #Removed unknown records\r\n",
        "data_1 = data_1.drop([\"latitude\",\"longitude\"],axis = 1)  #Removed latitud and longitude\r\n",
        "data_1 = data_1.sort_values(by = [\"subscriber_id\",\"entry_date\"], ascending = True) #Sort values by subscriber_id and entry_date\r\n",
        "data_1[\"entry_date\"] = pd.to_datetime(data_1[\"entry_date\"]) \r\n",
        "data_1[\"day_entry_date\"] = [d.date() for d in data_1[\"entry_date\"]]\r\n"
      ],
      "execution_count": null,
      "outputs": []
    },
    {
      "cell_type": "code",
      "metadata": {
        "colab": {
          "base_uri": "https://localhost:8080/",
          "height": 197
        },
        "id": "E4gpd3uTjPJU",
        "outputId": "2f2dde90-1300-480a-9798-57b77ab30375"
      },
      "source": [
        "data_1.head()"
      ],
      "execution_count": null,
      "outputs": [
        {
          "output_type": "execute_result",
          "data": {
            "text/html": [
              "<div>\n",
              "<style scoped>\n",
              "    .dataframe tbody tr th:only-of-type {\n",
              "        vertical-align: middle;\n",
              "    }\n",
              "\n",
              "    .dataframe tbody tr th {\n",
              "        vertical-align: top;\n",
              "    }\n",
              "\n",
              "    .dataframe thead th {\n",
              "        text-align: right;\n",
              "    }\n",
              "</style>\n",
              "<table border=\"1\" class=\"dataframe\">\n",
              "  <thead>\n",
              "    <tr style=\"text-align: right;\">\n",
              "      <th></th>\n",
              "      <th>gtid</th>\n",
              "      <th>vendor_id</th>\n",
              "      <th>subscriber_id</th>\n",
              "      <th>signal_type</th>\n",
              "      <th>entry_date</th>\n",
              "      <th>distance</th>\n",
              "      <th>proximity</th>\n",
              "      <th>day_entry_date</th>\n",
              "    </tr>\n",
              "  </thead>\n",
              "  <tbody>\n",
              "    <tr>\n",
              "      <th>80318</th>\n",
              "      <td>63C75856-B672-4175-9CAA-EF1A26A06814</td>\n",
              "      <td>6</td>\n",
              "      <td>26992</td>\n",
              "      <td>2</td>\n",
              "      <td>2017-07-29 15:51:08</td>\n",
              "      <td>1807.501630</td>\n",
              "      <td>far</td>\n",
              "      <td>2017-07-29</td>\n",
              "    </tr>\n",
              "    <tr>\n",
              "      <th>80836</th>\n",
              "      <td>91A411BF-6FE5-4E41-ACDC-85D1825D197A</td>\n",
              "      <td>6</td>\n",
              "      <td>26992</td>\n",
              "      <td>2</td>\n",
              "      <td>2017-07-29 15:51:48</td>\n",
              "      <td>2017.969873</td>\n",
              "      <td>far</td>\n",
              "      <td>2017-07-29</td>\n",
              "    </tr>\n",
              "    <tr>\n",
              "      <th>83933</th>\n",
              "      <td>E3BE7BF7-2583-48E1-A5B8-9013F77FE63E</td>\n",
              "      <td>6</td>\n",
              "      <td>26992</td>\n",
              "      <td>2</td>\n",
              "      <td>2017-07-29 15:54:46</td>\n",
              "      <td>681.292069</td>\n",
              "      <td>far</td>\n",
              "      <td>2017-07-29</td>\n",
              "    </tr>\n",
              "    <tr>\n",
              "      <th>80322</th>\n",
              "      <td>22D56BAA-AEB2-4796-8B2D-AEB44CF83CF8</td>\n",
              "      <td>6</td>\n",
              "      <td>26992</td>\n",
              "      <td>2</td>\n",
              "      <td>2017-07-29 15:58:09</td>\n",
              "      <td>1527.666797</td>\n",
              "      <td>far</td>\n",
              "      <td>2017-07-29</td>\n",
              "    </tr>\n",
              "    <tr>\n",
              "      <th>83935</th>\n",
              "      <td>8091EAB2-FEB7-4F31-9A66-359EBB992049</td>\n",
              "      <td>6</td>\n",
              "      <td>26992</td>\n",
              "      <td>2</td>\n",
              "      <td>2017-07-29 16:00:01</td>\n",
              "      <td>1573.744946</td>\n",
              "      <td>far</td>\n",
              "      <td>2017-07-29</td>\n",
              "    </tr>\n",
              "  </tbody>\n",
              "</table>\n",
              "</div>"
            ],
            "text/plain": [
              "                                       gtid  vendor_id  ...  proximity  day_entry_date\n",
              "80318  63C75856-B672-4175-9CAA-EF1A26A06814          6  ...        far      2017-07-29\n",
              "80836  91A411BF-6FE5-4E41-ACDC-85D1825D197A          6  ...        far      2017-07-29\n",
              "83933  E3BE7BF7-2583-48E1-A5B8-9013F77FE63E          6  ...        far      2017-07-29\n",
              "80322  22D56BAA-AEB2-4796-8B2D-AEB44CF83CF8          6  ...        far      2017-07-29\n",
              "83935  8091EAB2-FEB7-4F31-9A66-359EBB992049          6  ...        far      2017-07-29\n",
              "\n",
              "[5 rows x 8 columns]"
            ]
          },
          "metadata": {
            "tags": []
          },
          "execution_count": 12
        }
      ]
    },
    {
      "cell_type": "markdown",
      "metadata": {
        "id": "uNav4p4BgXxN"
      },
      "source": [
        "## **Step 4: Customer per day and sales per day**\r\n",
        "In this stage, the number of unique clients per day was calculated."
      ]
    },
    {
      "cell_type": "code",
      "metadata": {
        "id": "Svub1CPcgZku"
      },
      "source": [
        "data_customers_per_day = data_1.groupby([\"day_entry_date\"]).agg({\"subscriber_id\":pd.Series.nunique}).rename(columns = {\"subscriber_id\":\"subscriber_unique\"}).reset_index() #Count the unique number of customers per day\r\n"
      ],
      "execution_count": null,
      "outputs": []
    },
    {
      "cell_type": "markdown",
      "metadata": {
        "id": "_06QfDnvg4vI"
      },
      "source": [
        "Then, the sales per day were calculated"
      ]
    },
    {
      "cell_type": "code",
      "metadata": {
        "id": "zW5mhAaGg9QQ"
      },
      "source": [
        "sales_per_day = data_1[data_1[\"proximity\"].isin([\"immediate\",\"near\"])] #Considering \"immediate\" and \"near\" signals\r\n",
        "sales_per_day = sales_per_day.groupby([\"day_entry_date\"]).agg({\"subscriber_id\":pd.Series.nunique}).rename(columns = {\"subscriber_id\":\"subscriber_unique\"}).reset_index()\r\n"
      ],
      "execution_count": null,
      "outputs": []
    },
    {
      "cell_type": "markdown",
      "metadata": {
        "id": "PriLVfb6hjUc"
      },
      "source": [
        "Finally, the two data sets are joined.\r\n",
        "\r\n"
      ]
    },
    {
      "cell_type": "code",
      "metadata": {
        "colab": {
          "base_uri": "https://localhost:8080/",
          "height": 607
        },
        "id": "Jx9XKLlthkz0",
        "outputId": "c02fc219-1d9f-4a51-cbee-177c1561db63"
      },
      "source": [
        "final_df = pd.merge(data_customers_per_day,sales_per_day, how = \"left\", on = [\"day_entry_date\"])\r\n",
        "\r\n",
        "plt.plot(final_df.day_entry_date, final_df.subscriber_unique_x)\r\n",
        "plt.xlabel('Day')\r\n",
        "plt.ylabel('Customers')\r\n",
        "plt.title('Customers per Day')\r\n",
        "plt.legend()\r\n",
        "plt.show()     \r\n",
        "\r\n",
        "plt.plot(final_df.day_entry_date, final_df.subscriber_unique_y)\r\n",
        "plt.xlabel('Day')\r\n",
        "plt.ylabel('Sales')\r\n",
        "plt.title('Sales per Day')\r\n",
        "plt.legend()\r\n",
        "plt.show()     "
      ],
      "execution_count": null,
      "outputs": [
        {
          "output_type": "stream",
          "text": [
            "No handles with labels found to put in legend.\n"
          ],
          "name": "stderr"
        },
        {
          "output_type": "display_data",
          "data": {
            "image/png": "[encoded data removed]",
            "text/plain": [
              "<Figure size 432x288 with 1 Axes>"
            ]
          },
          "metadata": {
            "tags": [],
            "needs_background": "light"
          }
        },
        {
          "output_type": "stream",
          "text": [
            "No handles with labels found to put in legend.\n"
          ],
          "name": "stderr"
        },
        {
          "output_type": "display_data",
          "data": {
            "image/png": "[encoded data removed]",
            "text/plain": [
              "<Figure size 432x288 with 1 Axes>"
            ]
          },
          "metadata": {
            "tags": [],
            "needs_background": "light"
          }
        }
      ]
    },
    {
      "cell_type": "markdown",
      "metadata": {
        "id": "1Qhn8CH9hoXo"
      },
      "source": [
        "## **Step 5: Analysis of the time series**"
      ]
    },
    {
      "cell_type": "code",
      "metadata": {
        "colab": {
          "base_uri": "https://localhost:8080/"
        },
        "id": "jH9OWYSVhpwX",
        "outputId": "85b8dcf7-14fc-491d-cbf5-35492bd859a1"
      },
      "source": [
        "def check_stationarity(timeseries):\r\n",
        "    result = adfuller(timeseries,autolag='AIC')\r\n",
        "    dfoutput = pd.Series(result[0:4], index=['Test Statistic','p-value','#Lags Used','Number of Observations Used'])\r\n",
        "    print('The test statistic: %f' % result[0])\r\n",
        "    print('p-value: %f' % result[1])\r\n",
        "    print('Critical Values:')\r\n",
        "    for key, value in result[4].items():\r\n",
        "        print('%s: %.3f' % (key, value))\r\n",
        "        \r\n",
        "\r\n",
        "print(check_stationarity(final_df.subscriber_unique_x))\r\n",
        "print(check_stationarity(final_df.subscriber_unique_y))\r\n",
        "\r\n"
      ],
      "execution_count": null,
      "outputs": [
        {
          "output_type": "stream",
          "text": [
            "The test statistic: -4.368623\n",
            "p-value: 0.000337\n",
            "Critical Values:\n",
            "1%: -3.478\n",
            "5%: -2.882\n",
            "10%: -2.578\n",
            "None\n",
            "The test statistic: -7.617544\n",
            "p-value: 0.000000\n",
            "Critical Values:\n",
            "1%: -3.478\n",
            "5%: -2.882\n",
            "10%: -2.578\n",
            "None\n"
          ],
          "name": "stdout"
        }
      ]
    },
    {
      "cell_type": "markdown",
      "metadata": {
        "id": "7e7g4xwjpS_0"
      },
      "source": [
        "In both cases the p-value is less than 5% so I can reject the null hypothesis.\r\n",
        "With this, the time series seems to be stationary. In this model, the number of customers will be used to predict sales."
      ]
    },
    {
      "cell_type": "code",
      "metadata": {
        "colab": {
          "base_uri": "https://localhost:8080/"
        },
        "id": "ivOvyahtiA0c",
        "outputId": "2f2f5441-a4aa-4527-e87e-ca5ce0f0db26"
      },
      "source": [
        "\r\n",
        "#change press to another column to train model for different column\r\n",
        "\r\n",
        "print(sm.tsa.stattools.adfuller(final_df['subscriber_unique_x']))\r\n",
        "print(sm.tsa.stattools.adfuller(final_df['subscriber_unique_y']))\r\n",
        "\r\n",
        "#Now it is necessary to obtain difference between each row.\r\n",
        "final_df['lag']=final_df['subscriber_unique_x'].shift()\r\n",
        "\r\n",
        "final_df.dropna(inplace=True) # Removed null values\r\n",
        "\r\n",
        "#Train arima the ARIMA Model (1,0,1) (First Model)\r\n",
        "model3=sm.tsa.ARIMA(endog=final_df['subscriber_unique_y'],exog=final_df[['lag']],order=[1,0,1]) \r\n",
        "results3=model3.fit() # Get the results\r\n",
        "\r\n",
        "# MSE and RMSE using residuals\r\n",
        "mse = (np.square(results3.resid).sum())/len(results3.resid)\r\n",
        "rmse = np.sqrt(mse)\r\n",
        "\r\n",
        "def arima_models(df,p,d,q): #This function allows evaluating different models through different orders for the variables p, q, d\r\n",
        "    results_arima = []\r\n",
        "    for p in range(0,p+1):\r\n",
        "        for q in range(0,q+1):\r\n",
        "            df.subscriber_unique_y = df.subscriber_unique_y.astype('float32')\r\n",
        "            model3=sm.tsa.ARIMA(endog=df['subscriber_unique_y'],exog=df[['lag']],order=[p,d,q])\r\n",
        "            result_model=model3.fit()\r\n",
        "            mse = (np.square(result_model.resid).sum())/len(result_model.resid)\r\n",
        "            rmse = np.sqrt(mse)\r\n",
        "            results_arima.append([p,q,mse,rmse])\r\n",
        "            df_results_arima = pd.DataFrame(results_arima, columns = ['p','q','mse','rmse'])\r\n",
        "    print(df_results_arima);\r\n",
        "            \r\n",
        "        \r\n",
        "arima_models(final_df,2,0,2)"
      ],
      "execution_count": null,
      "outputs": [
        {
          "output_type": "stream",
          "text": [
            "(-4.416361588121319, 0.00027765502068054584, 1, 139, {'1%': -3.4782936965183815, '5%': -2.882567574015525, '10%': -2.5779830117488745}, 1044.9135983199017)\n",
            "(-7.639964551179322, 1.9074839696389596e-11, 0, 140, {'1%': -3.4779446621720114, '5%': -2.8824156122448983, '10%': -2.577901887755102}, 713.1626978348012)\n"
          ],
          "name": "stdout"
        },
        {
          "output_type": "stream",
          "text": [
            "/usr/local/lib/python3.7/dist-packages/statsmodels/tsa/base/tsa_model.py:215: ValueWarning: An unsupported index was provided and will be ignored when e.g. forecasting.\n",
            "  ' ignored when e.g. forecasting.', ValueWarning)\n",
            "/usr/local/lib/python3.7/dist-packages/statsmodels/tsa/base/tsa_model.py:215: ValueWarning: An unsupported index was provided and will be ignored when e.g. forecasting.\n",
            "  ' ignored when e.g. forecasting.', ValueWarning)\n",
            "/usr/local/lib/python3.7/dist-packages/statsmodels/tsa/base/tsa_model.py:215: ValueWarning: An unsupported index was provided and will be ignored when e.g. forecasting.\n",
            "  ' ignored when e.g. forecasting.', ValueWarning)\n",
            "/usr/local/lib/python3.7/dist-packages/statsmodels/tsa/base/tsa_model.py:215: ValueWarning: An unsupported index was provided and will be ignored when e.g. forecasting.\n",
            "  ' ignored when e.g. forecasting.', ValueWarning)\n",
            "/usr/local/lib/python3.7/dist-packages/statsmodels/tsa/base/tsa_model.py:215: ValueWarning: An unsupported index was provided and will be ignored when e.g. forecasting.\n",
            "  ' ignored when e.g. forecasting.', ValueWarning)\n",
            "/usr/local/lib/python3.7/dist-packages/statsmodels/tsa/base/tsa_model.py:215: ValueWarning: An unsupported index was provided and will be ignored when e.g. forecasting.\n",
            "  ' ignored when e.g. forecasting.', ValueWarning)\n",
            "/usr/local/lib/python3.7/dist-packages/statsmodels/tsa/base/tsa_model.py:215: ValueWarning: An unsupported index was provided and will be ignored when e.g. forecasting.\n",
            "  ' ignored when e.g. forecasting.', ValueWarning)\n",
            "/usr/local/lib/python3.7/dist-packages/statsmodels/tsa/base/tsa_model.py:215: ValueWarning: An unsupported index was provided and will be ignored when e.g. forecasting.\n",
            "  ' ignored when e.g. forecasting.', ValueWarning)\n",
            "/usr/local/lib/python3.7/dist-packages/statsmodels/tsa/base/tsa_model.py:215: ValueWarning: An unsupported index was provided and will be ignored when e.g. forecasting.\n",
            "  ' ignored when e.g. forecasting.', ValueWarning)\n",
            "/usr/local/lib/python3.7/dist-packages/statsmodels/tsa/base/tsa_model.py:215: ValueWarning: An unsupported index was provided and will be ignored when e.g. forecasting.\n",
            "  ' ignored when e.g. forecasting.', ValueWarning)\n"
          ],
          "name": "stderr"
        },
        {
          "output_type": "stream",
          "text": [
            "   p  q        mse      rmse\n",
            "0  0  0  16.863058  4.106465\n",
            "1  0  1  15.494095  3.936254\n",
            "2  0  2  15.369750  3.920427\n",
            "3  1  0  15.414587  3.926142\n",
            "4  1  1  15.399749  3.924251\n",
            "5  1  2  15.361465  3.919370\n",
            "6  2  0  15.393481  3.923453\n",
            "7  2  1  15.108049  3.886907\n",
            "8  2  2  15.360647  3.919266\n"
          ],
          "name": "stdout"
        }
      ]
    },
    {
      "cell_type": "markdown",
      "metadata": {
        "id": "ax5uaCZPt8lL"
      },
      "source": [
        "Of all the models evaluated, the best results were obtained with the ARIMA(2,0,1) which obtained a mse = 15.109 and rmse = 3.886"
      ]
    }
  ]
}